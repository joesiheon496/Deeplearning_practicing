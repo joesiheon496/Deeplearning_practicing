{
  "nbformat": 4,
  "nbformat_minor": 0,
  "metadata": {
    "colab": {
      "name": "이미지 분류_RNN으로 손글씨 이미지 분류하기",
      "provenance": []
    },
    "kernelspec": {
      "name": "python3",
      "display_name": "Python 3"
    },
    "language_info": {
      "name": "python"
    }
  },
  "cells": [
    {
      "cell_type": "code",
      "execution_count": 15,
      "metadata": {
        "id": "ziUQ1p5sSQI1"
      },
      "outputs": [],
      "source": [
        "import tensorflow as tf\n",
        "from tensorflow import keras\n",
        "from tensorflow.keras.layers import Dense\n",
        "from tensorflow.keras.models import Sequential\n",
        "\n",
        "import pandas as pd\n",
        "import numpy as np\n",
        "import matplotlib.pyplot as plt\n",
        "import seaborn as sns\n",
        "import warnings\n",
        "from IPython.display import Image\n",
        "\n",
        "warnings.filterwarnings('ignore')\n",
        "%matplotlib inline\n",
        "\n",
        "SEED = 34"
      ]
    },
    {
      "cell_type": "code",
      "source": [
        "mnist = keras.datasets.mnist\n",
        "mnist.load_data()"
      ],
      "metadata": {
        "colab": {
          "base_uri": "https://localhost:8080/"
        },
        "id": "rL-ODdYqS0DD",
        "outputId": "eb5ab33a-60e1-4988-86c1-d9ad5c231abb"
      },
      "execution_count": 16,
      "outputs": [
        {
          "output_type": "execute_result",
          "data": {
            "text/plain": [
              "((array([[[0, 0, 0, ..., 0, 0, 0],\n",
              "          [0, 0, 0, ..., 0, 0, 0],\n",
              "          [0, 0, 0, ..., 0, 0, 0],\n",
              "          ...,\n",
              "          [0, 0, 0, ..., 0, 0, 0],\n",
              "          [0, 0, 0, ..., 0, 0, 0],\n",
              "          [0, 0, 0, ..., 0, 0, 0]],\n",
              "  \n",
              "         [[0, 0, 0, ..., 0, 0, 0],\n",
              "          [0, 0, 0, ..., 0, 0, 0],\n",
              "          [0, 0, 0, ..., 0, 0, 0],\n",
              "          ...,\n",
              "          [0, 0, 0, ..., 0, 0, 0],\n",
              "          [0, 0, 0, ..., 0, 0, 0],\n",
              "          [0, 0, 0, ..., 0, 0, 0]],\n",
              "  \n",
              "         [[0, 0, 0, ..., 0, 0, 0],\n",
              "          [0, 0, 0, ..., 0, 0, 0],\n",
              "          [0, 0, 0, ..., 0, 0, 0],\n",
              "          ...,\n",
              "          [0, 0, 0, ..., 0, 0, 0],\n",
              "          [0, 0, 0, ..., 0, 0, 0],\n",
              "          [0, 0, 0, ..., 0, 0, 0]],\n",
              "  \n",
              "         ...,\n",
              "  \n",
              "         [[0, 0, 0, ..., 0, 0, 0],\n",
              "          [0, 0, 0, ..., 0, 0, 0],\n",
              "          [0, 0, 0, ..., 0, 0, 0],\n",
              "          ...,\n",
              "          [0, 0, 0, ..., 0, 0, 0],\n",
              "          [0, 0, 0, ..., 0, 0, 0],\n",
              "          [0, 0, 0, ..., 0, 0, 0]],\n",
              "  \n",
              "         [[0, 0, 0, ..., 0, 0, 0],\n",
              "          [0, 0, 0, ..., 0, 0, 0],\n",
              "          [0, 0, 0, ..., 0, 0, 0],\n",
              "          ...,\n",
              "          [0, 0, 0, ..., 0, 0, 0],\n",
              "          [0, 0, 0, ..., 0, 0, 0],\n",
              "          [0, 0, 0, ..., 0, 0, 0]],\n",
              "  \n",
              "         [[0, 0, 0, ..., 0, 0, 0],\n",
              "          [0, 0, 0, ..., 0, 0, 0],\n",
              "          [0, 0, 0, ..., 0, 0, 0],\n",
              "          ...,\n",
              "          [0, 0, 0, ..., 0, 0, 0],\n",
              "          [0, 0, 0, ..., 0, 0, 0],\n",
              "          [0, 0, 0, ..., 0, 0, 0]]], dtype=uint8),\n",
              "  array([5, 0, 4, ..., 5, 6, 8], dtype=uint8)),\n",
              " (array([[[0, 0, 0, ..., 0, 0, 0],\n",
              "          [0, 0, 0, ..., 0, 0, 0],\n",
              "          [0, 0, 0, ..., 0, 0, 0],\n",
              "          ...,\n",
              "          [0, 0, 0, ..., 0, 0, 0],\n",
              "          [0, 0, 0, ..., 0, 0, 0],\n",
              "          [0, 0, 0, ..., 0, 0, 0]],\n",
              "  \n",
              "         [[0, 0, 0, ..., 0, 0, 0],\n",
              "          [0, 0, 0, ..., 0, 0, 0],\n",
              "          [0, 0, 0, ..., 0, 0, 0],\n",
              "          ...,\n",
              "          [0, 0, 0, ..., 0, 0, 0],\n",
              "          [0, 0, 0, ..., 0, 0, 0],\n",
              "          [0, 0, 0, ..., 0, 0, 0]],\n",
              "  \n",
              "         [[0, 0, 0, ..., 0, 0, 0],\n",
              "          [0, 0, 0, ..., 0, 0, 0],\n",
              "          [0, 0, 0, ..., 0, 0, 0],\n",
              "          ...,\n",
              "          [0, 0, 0, ..., 0, 0, 0],\n",
              "          [0, 0, 0, ..., 0, 0, 0],\n",
              "          [0, 0, 0, ..., 0, 0, 0]],\n",
              "  \n",
              "         ...,\n",
              "  \n",
              "         [[0, 0, 0, ..., 0, 0, 0],\n",
              "          [0, 0, 0, ..., 0, 0, 0],\n",
              "          [0, 0, 0, ..., 0, 0, 0],\n",
              "          ...,\n",
              "          [0, 0, 0, ..., 0, 0, 0],\n",
              "          [0, 0, 0, ..., 0, 0, 0],\n",
              "          [0, 0, 0, ..., 0, 0, 0]],\n",
              "  \n",
              "         [[0, 0, 0, ..., 0, 0, 0],\n",
              "          [0, 0, 0, ..., 0, 0, 0],\n",
              "          [0, 0, 0, ..., 0, 0, 0],\n",
              "          ...,\n",
              "          [0, 0, 0, ..., 0, 0, 0],\n",
              "          [0, 0, 0, ..., 0, 0, 0],\n",
              "          [0, 0, 0, ..., 0, 0, 0]],\n",
              "  \n",
              "         [[0, 0, 0, ..., 0, 0, 0],\n",
              "          [0, 0, 0, ..., 0, 0, 0],\n",
              "          [0, 0, 0, ..., 0, 0, 0],\n",
              "          ...,\n",
              "          [0, 0, 0, ..., 0, 0, 0],\n",
              "          [0, 0, 0, ..., 0, 0, 0],\n",
              "          [0, 0, 0, ..., 0, 0, 0]]], dtype=uint8),\n",
              "  array([7, 2, 1, ..., 4, 5, 6], dtype=uint8)))"
            ]
          },
          "metadata": {},
          "execution_count": 16
        }
      ]
    },
    {
      "cell_type": "code",
      "source": [
        "((train_images, train_labels),(test_images, test_labels)) = mnist.load_data()"
      ],
      "metadata": {
        "id": "LPEhq1oMS6WA"
      },
      "execution_count": 17,
      "outputs": []
    },
    {
      "cell_type": "code",
      "source": [
        "print(f'train_images : {train_images.shape}')\n",
        "print(f'train_labels : {train_labels.shape}')\n",
        "print(f'test_images : {train_images.shape}')\n",
        "print(f'test_labels : {test_labels.shape}')\n"
      ],
      "metadata": {
        "colab": {
          "base_uri": "https://localhost:8080/"
        },
        "id": "QJQ-GK7nTJvk",
        "outputId": "c9a2e18a-2fad-46a6-913f-f3a6cc7a1429"
      },
      "execution_count": 18,
      "outputs": [
        {
          "output_type": "stream",
          "name": "stdout",
          "text": [
            "train_images : (60000, 28, 28)\n",
            "train_labels : (60000,)\n",
            "test_images : (60000, 28, 28)\n",
            "test_labels : (10000,)\n"
          ]
        }
      ]
    },
    {
      "cell_type": "code",
      "source": [
        "plt.figure()\n",
        "plt.imshow(train_images[0])\n",
        "plt.colorbar()\n",
        "plt.grid()\n",
        "plt.show()"
      ],
      "metadata": {
        "colab": {
          "base_uri": "https://localhost:8080/",
          "height": 265
        },
        "id": "NnM4009ITWsf",
        "outputId": "7e7209b4-c209-4da3-9dda-209092deb4e0"
      },
      "execution_count": 19,
      "outputs": [
        {
          "output_type": "display_data",
          "data": {
            "image/png": "[encoded data removed]",
            "text/plain": [
              "<Figure size 432x288 with 2 Axes>"
            ]
          },
          "metadata": {
            "needs_background": "light"
          }
        }
      ]
    },
    {
      "cell_type": "code",
      "source": [
        "list(filter(lambda x: x !=0, train_images[0].reshape(-1)))[:10]"
      ],
      "metadata": {
        "colab": {
          "base_uri": "https://localhost:8080/"
        },
        "id": "eIIzVQQkTcgF",
        "outputId": "8a624921-f094-41a9-ea71-e793ba216279"
      },
      "execution_count": 20,
      "outputs": [
        {
          "output_type": "execute_result",
          "data": {
            "text/plain": [
              "[3, 18, 18, 18, 126, 136, 175, 26, 166, 255]"
            ]
          },
          "metadata": {},
          "execution_count": 20
        }
      ]
    },
    {
      "cell_type": "code",
      "source": [
        "print(f'train_images.dtype : {train_images.dtype}')\n",
        "print(f'train_labels.dtype : {train_labels.dtype}')\n",
        "print(f'test_images.dtype : {test_images.dtype}')\n",
        "print(f'test_labels.dtype : {test_labels.dtype}')"
      ],
      "metadata": {
        "colab": {
          "base_uri": "https://localhost:8080/"
        },
        "id": "-xUtfizZTmMh",
        "outputId": "fa0c2e89-1362-44ab-9590-1f3f6772b358"
      },
      "execution_count": 21,
      "outputs": [
        {
          "output_type": "stream",
          "name": "stdout",
          "text": [
            "train_images.dtype : uint8\n",
            "train_labels.dtype : uint8\n",
            "test_images.dtype : uint8\n",
            "test_labels.dtype : uint8\n"
          ]
        }
      ]
    },
    {
      "cell_type": "code",
      "source": [
        "print(f'0이 아닌 수를 출력 10개까지 : {list(filter(lambda x : x!=0, train_images[0].reshape(-1)))[:10]}')\n",
        "print(f'test_images의 shape : {test_images.shape}')\n",
        "print(f'test_images의 dtype : {test_images.dtype}')"
      ],
      "metadata": {
        "colab": {
          "base_uri": "https://localhost:8080/"
        },
        "id": "uS76M6CZXKbJ",
        "outputId": "d3ac4033-996b-4a4d-9cf6-bcc1adaf8e02"
      },
      "execution_count": 22,
      "outputs": [
        {
          "output_type": "stream",
          "name": "stdout",
          "text": [
            "0이 아닌 수를 출력 10개까지 : [3, 18, 18, 18, 126, 136, 175, 26, 166, 255]\n",
            "test_images의 shape : (10000, 28, 28)\n",
            "test_images의 dtype : uint8\n"
          ]
        }
      ]
    },
    {
      "cell_type": "code",
      "source": [
        "print(f'train_images의 max 값 : {max(train_images[0].reshape(-1))}')\n",
        "print(f'train_images의 min 값 : {min(train_images[0].reshape(-1))}')\n",
        "\n",
        "print(f'train_labels의 max 값 : {max(train_labels.reshape(-1))}')\n",
        "print(f'train_labels의 min 값 : {min(train_labels.reshape(-1))}')\n",
        "\n",
        "print(f'test_images의 max 값 : {max(test_images[0].reshape(-1))}')\n",
        "print(f'test_images의 min 값 : {min(test_images[0].reshape(-1))}')\n",
        "\n",
        "print(f'train_labels의 max 값 : {max(test_labels.reshape(-1))}')\n",
        "print(f'train_labels의 min 값 : {min(test_labels.reshape(-1))}')"
      ],
      "metadata": {
        "colab": {
          "base_uri": "https://localhost:8080/"
        },
        "id": "2qwK0w0VXhUI",
        "outputId": "c301b485-e07a-4d9f-c1e8-afff7b88ac69"
      },
      "execution_count": 23,
      "outputs": [
        {
          "output_type": "stream",
          "name": "stdout",
          "text": [
            "train_images의 max 값 : 255\n",
            "train_images의 min 값 : 0\n",
            "train_labels의 max 값 : 9\n",
            "train_labels의 min 값 : 0\n",
            "test_images의 max 값 : 255\n",
            "test_images의 min 값 : 0\n",
            "train_labels의 max 값 : 9\n",
            "train_labels의 min 값 : 0\n"
          ]
        }
      ]
    },
    {
      "cell_type": "code",
      "source": [
        "print(f'전 train_dtype : {train_images.dtype}')\n",
        "print(f'전 test_dtype : {test_images.dtype}')\n",
        "\n",
        "# astype dtype을 바꾸어줌\n",
        "train_images = train_images.astype(np.float64)\n",
        "test_images = test_images.astype(np.float64)\n",
        "\n",
        "print(f'후 train_dtype : {train_images.dtype}')\n",
        "print(f'후 test_dtype : {test_images.dtype}')"
      ],
      "metadata": {
        "colab": {
          "base_uri": "https://localhost:8080/"
        },
        "id": "WSeHYdHjYGDB",
        "outputId": "fdf08de8-efdf-4c66-f71a-7ee76084b01a"
      },
      "execution_count": 24,
      "outputs": [
        {
          "output_type": "stream",
          "name": "stdout",
          "text": [
            "전 train_dtype : uint8\n",
            "전 test_dtype : uint8\n",
            "후 train_dtype : float64\n",
            "후 test_dtype : float64\n"
          ]
        }
      ]
    },
    {
      "cell_type": "code",
      "source": [
        "train_images = train_images / 255\n",
        "test_images = test_images / 255"
      ],
      "metadata": {
        "id": "iLLYINrUYf0X"
      },
      "execution_count": 25,
      "outputs": []
    },
    {
      "cell_type": "code",
      "source": [
        "print(f'normalize 후 0이 아닌 값 : {list(filter(lambda x: x!=0,train_images[0].reshape(-1)))[:10]}')\n",
        "print(f'normalize 후 max 값 : {max(train_images[0].reshape(-1))}')\n",
        "print(f'normalize 후 min 값 : {min(train_images[0].reshape(-1))}')\n",
        "print(f'normalize 후 shape 값 : {train_images.shape}')\n",
        "print(f'normalize 후 dtype 값 : {train_images.dtype}')"
      ],
      "metadata": {
        "colab": {
          "base_uri": "https://localhost:8080/"
        },
        "id": "Debvwmo6YrJ8",
        "outputId": "906a4e18-76aa-4e3b-de0c-538abb9fabbd"
      },
      "execution_count": 29,
      "outputs": [
        {
          "output_type": "stream",
          "name": "stdout",
          "text": [
            "normalize 후 0이 아닌 값 : [0.011764705882352941, 0.07058823529411765, 0.07058823529411765, 0.07058823529411765, 0.49411764705882355, 0.5333333333333333, 0.6862745098039216, 0.10196078431372549, 0.6509803921568628, 1.0]\n",
            "normalize 후 max 값 : 1.0\n",
            "normalize 후 min 값 : 0.0\n",
            "normalize 후 shape 값 : (60000, 28, 28)\n",
            "normalize 후 dtype 값 : float64\n"
          ]
        }
      ]
    },
    {
      "cell_type": "code",
      "source": [
        "train_images[:5].shape"
      ],
      "metadata": {
        "colab": {
          "base_uri": "https://localhost:8080/"
        },
        "id": "9rJt4q96ZNHd",
        "outputId": "7cf7359b-c5c1-44c0-aa0c-9b367c0fa804"
      },
      "execution_count": 30,
      "outputs": [
        {
          "output_type": "execute_result",
          "data": {
            "text/plain": [
              "(5, 28, 28)"
            ]
          },
          "metadata": {},
          "execution_count": 30
        }
      ]
    },
    {
      "cell_type": "code",
      "source": [
        "np.hstack(train_images[:5]).shape"
      ],
      "metadata": {
        "colab": {
          "base_uri": "https://localhost:8080/"
        },
        "id": "io2UtfxxZlUO",
        "outputId": "75b0a666-3c0e-498a-fbdb-bf5800f8da84"
      },
      "execution_count": 31,
      "outputs": [
        {
          "output_type": "execute_result",
          "data": {
            "text/plain": [
              "(28, 140)"
            ]
          },
          "metadata": {},
          "execution_count": 31
        }
      ]
    },
    {
      "cell_type": "code",
      "source": [
        "train_images[:5].transpose((1,0,2)).reshape(28,-1)"
      ],
      "metadata": {
        "colab": {
          "base_uri": "https://localhost:8080/"
        },
        "id": "MKt1S88zZpMz",
        "outputId": "5ad5e0ed-b062-4d9b-b4ce-ed34a0f56986"
      },
      "execution_count": 32,
      "outputs": [
        {
          "output_type": "execute_result",
          "data": {
            "text/plain": [
              "array([[0., 0., 0., ..., 0., 0., 0.],\n",
              "       [0., 0., 0., ..., 0., 0., 0.],\n",
              "       [0., 0., 0., ..., 0., 0., 0.],\n",
              "       ...,\n",
              "       [0., 0., 0., ..., 0., 0., 0.],\n",
              "       [0., 0., 0., ..., 0., 0., 0.],\n",
              "       [0., 0., 0., ..., 0., 0., 0.]])"
            ]
          },
          "metadata": {},
          "execution_count": 32
        }
      ]
    },
    {
      "cell_type": "code",
      "source": [
        "plt.figure()\n",
        "plt.imshow(np.hstack(train_images[:5]),cmap='gray')\n",
        "plt.show()"
      ],
      "metadata": {
        "colab": {
          "base_uri": "https://localhost:8080/",
          "height": 118
        },
        "id": "ghNKyI2rZx05",
        "outputId": "57d27a47-c428-41ef-c376-fb04a3d4dee7"
      },
      "execution_count": 34,
      "outputs": [
        {
          "output_type": "display_data",
          "data": {
            "image/png": "[encoded data removed]",
            "text/plain": [
              "<Figure size 432x288 with 1 Axes>"
            ]
          },
          "metadata": {
            "needs_background": "light"
          }
        }
      ]
    },
    {
      "cell_type": "code",
      "source": [
        "plt.figure()\n",
        "plt.imshow(train_images[:5].transpose((1,0,2)).reshape(28,-1),cmap='gray')\n",
        "plt.show()"
      ],
      "metadata": {
        "colab": {
          "base_uri": "https://localhost:8080/",
          "height": 118
        },
        "id": "YZ1qqUsnZ5Pq",
        "outputId": "5bd24e41-a887-4b1d-9b86-c05deea35f46"
      },
      "execution_count": 35,
      "outputs": [
        {
          "output_type": "display_data",
          "data": {
            "image/png": "[encoded data removed]",
            "text/plain": [
              "<Figure size 432x288 with 1 Axes>"
            ]
          },
          "metadata": {
            "needs_background": "light"
          }
        }
      ]
    },
    {
      "cell_type": "code",
      "source": [
        "plt.figure()\n",
        "plt.imshow(np.random.random((28,28)),cmap='gray')\n",
        "plt.colorbar()\n",
        "plt.show()"
      ],
      "metadata": {
        "colab": {
          "base_uri": "https://localhost:8080/",
          "height": 265
        },
        "id": "Hw_x6Q7taHrj",
        "outputId": "d9b0fd5b-9341-4f11-93cd-181abd7ae0dc"
      },
      "execution_count": 37,
      "outputs": [
        {
          "output_type": "display_data",
          "data": {
            "image/png": "[encoded data removed]",
            "text/plain": [
              "<Figure size 432x288 with 2 Axes>"
            ]
          },
          "metadata": {
            "needs_background": "light"
          }
        }
      ]
    },
    {
      "cell_type": "code",
      "source": [
        "plt.figure()\n",
        "plt.imshow(np.random.normal(0.0,0.01,(28,28)),cmap='gray') # 평균 0 표준편차 0.01\n",
        "plt.colorbar()\n",
        "plt.show()"
      ],
      "metadata": {
        "colab": {
          "base_uri": "https://localhost:8080/",
          "height": 265
        },
        "id": "SxD-kK43aWlK",
        "outputId": "9eefe7ac-f844-4d83-92b9-5a7b79e2e1b7"
      },
      "execution_count": 41,
      "outputs": [
        {
          "output_type": "display_data",
          "data": {
            "image/png": "[encoded data removed]",
            "text/plain": [
              "<Figure size 432x288 with 2 Axes>"
            ]
          },
          "metadata": {
            "needs_background": "light"
          }
        }
      ]
    },
    {
      "cell_type": "code",
      "source": [
        "noisy_images = train_images[5] + np.random.normal(0.5,0.01,(28,28))"
      ],
      "metadata": {
        "id": "HrO8plDCac6U"
      },
      "execution_count": 42,
      "outputs": []
    },
    {
      "cell_type": "code",
      "source": [
        "plt.imshow(noisy_images, cmap='gray')\n",
        "plt.colorbar()\n",
        "plt.show()"
      ],
      "metadata": {
        "colab": {
          "base_uri": "https://localhost:8080/",
          "height": 265
        },
        "id": "yDBRrcRuazLL",
        "outputId": "0e50e708-a671-4a17-af67-ec9dd02e7c38"
      },
      "execution_count": 44,
      "outputs": [
        {
          "output_type": "display_data",
          "data": {
            "image/png": "[encoded data removed]",
            "text/plain": [
              "<Figure size 432x288 with 2 Axes>"
            ]
          },
          "metadata": {
            "needs_background": "light"
          }
        }
      ]
    },
    {
      "cell_type": "code",
      "source": [
        "noisy_images[noisy_images > 1.0] = 1.0\n",
        "plt.imshow(noisy_images, cmap='gray')\n",
        "plt.colorbar()\n",
        "plt.show()"
      ],
      "metadata": {
        "colab": {
          "base_uri": "https://localhost:8080/",
          "height": 269
        },
        "id": "HYUNbNFma3TM",
        "outputId": "62cb99e2-cc8f-4b9b-db11-f18349bd4458"
      },
      "execution_count": 45,
      "outputs": [
        {
          "output_type": "display_data",
          "data": {
            "image/png": "[encoded data removed]",
            "text/plain": [
              "<Figure size 432x288 with 2 Axes>"
            ]
          },
          "metadata": {
            "needs_background": "light"
          }
        }
      ]
    },
    {
      "cell_type": "code",
      "source": [
        "train_noisy_images = train_images + np.random.normal(0.5, 0.1, train_images.shape)\n",
        "train_noisy_images[train_noisy_images > 1.0] = 1.0\n",
        "\n",
        "test_noisy_images = test_images + np.random.normal(0.5,0.1,test_images.shape)\n",
        "test_noisy_images[test_noisy_images>1.0] = 1.0"
      ],
      "metadata": {
        "id": "kT1lCbyYbNlo"
      },
      "execution_count": 46,
      "outputs": []
    },
    {
      "cell_type": "code",
      "source": [
        "plt.imshow(train_noisy_images[:5].transpose( (1,0,2) ).reshape(28,-1),cmap='gray')\n",
        "plt.colorbar()\n",
        "plt.show()\n",
        "print(f'labels : {train_labels[:5]}')"
      ],
      "metadata": {
        "colab": {
          "base_uri": "https://localhost:8080/",
          "height": 269
        },
        "id": "Alb__3aPcANE",
        "outputId": "95f8c323-937f-4a1c-8b4e-9ad6134b1f85"
      },
      "execution_count": 48,
      "outputs": [
        {
          "output_type": "display_data",
          "data": {
            "image/png": "[encoded data removed]",
            "text/plain": [
              "<Figure size 432x288 with 2 Axes>"
            ]
          },
          "metadata": {
            "needs_background": "light"
          }
        },
        {
          "output_type": "stream",
          "name": "stdout",
          "text": [
            "labels : [5 0 4 1 9]\n"
          ]
        }
      ]
    },
    {
      "cell_type": "code",
      "source": [
        "from tensorflow.keras.utils import to_categorical\n",
        "print(train_labels.shape, test_labels.shape)\n",
        "train_labels = to_categorical(train_labels, 10)\n",
        "test_labels = to_categorical(test_labels, 10)\n",
        "print(train_labels.shape, test_labels.shape)"
      ],
      "metadata": {
        "colab": {
          "base_uri": "https://localhost:8080/"
        },
        "id": "V1-cOhrkcTTx",
        "outputId": "978c3113-8974-4c9e-e32a-6c5a1a0cfb61"
      },
      "execution_count": 49,
      "outputs": [
        {
          "output_type": "stream",
          "name": "stdout",
          "text": [
            "(60000,) (10000,)\n",
            "(60000, 10) (10000, 10)\n"
          ]
        }
      ]
    },
    {
      "cell_type": "code",
      "source": [
        "from tensorflow.keras.layers import SimpleRNN\n",
        "from tensorflow.keras.layers import Dense, Input\n",
        "from tensorflow.keras.models import Model\n",
        "\n",
        "inputs = Input(shape=(28,28))\n",
        "x1 = SimpleRNN(64,activation = 'tanh')(inputs)\n",
        "x2 = Dense(10, activation = 'softmax')(x1)\n",
        "\n",
        "model = Model(inputs,x2)"
      ],
      "metadata": {
        "id": "rs0OEpGlcp7c"
      },
      "execution_count": 51,
      "outputs": []
    },
    {
      "cell_type": "code",
      "source": [
        "model.summary()"
      ],
      "metadata": {
        "colab": {
          "base_uri": "https://localhost:8080/"
        },
        "id": "ppE6KzJ9dFiB",
        "outputId": "68e2bf43-d3e4-4e1d-893c-1a02e4627abb"
      },
      "execution_count": 53,
      "outputs": [
        {
          "output_type": "stream",
          "name": "stdout",
          "text": [
            "Model: \"model\"\n",
            "_________________________________________________________________\n",
            " Layer (type)                Output Shape              Param #   \n",
            "=================================================================\n",
            " input_1 (InputLayer)        [(None, 28, 28)]          0         \n",
            "                                                                 \n",
            " simple_rnn (SimpleRNN)      (None, 64)                5952      \n",
            "                                                                 \n",
            " dense (Dense)               (None, 10)                650       \n",
            "                                                                 \n",
            "=================================================================\n",
            "Total params: 6,602\n",
            "Trainable params: 6,602\n",
            "Non-trainable params: 0\n",
            "_________________________________________________________________\n"
          ]
        }
      ]
    },
    {
      "cell_type": "code",
      "source": [
        "model.compile(loss = 'categorical_crossentropy',optimizer = 'adam', metrics = ['accuracy'])"
      ],
      "metadata": {
        "id": "EPkJubQbdKKO"
      },
      "execution_count": 54,
      "outputs": []
    },
    {
      "cell_type": "code",
      "source": [
        "hist = model.fit(train_noisy_images, train_labels, validation_data = (test_noisy_images, test_labels),epochs = 15, verbose = 2)"
      ],
      "metadata": {
        "colab": {
          "base_uri": "https://localhost:8080/"
        },
        "id": "4VujERobdU6A",
        "outputId": "46cce19a-4617-4b96-89d7-ec027b8dc2ff"
      },
      "execution_count": 55,
      "outputs": [
        {
          "output_type": "stream",
          "name": "stdout",
          "text": [
            "Epoch 1/15\n",
            "1875/1875 - 24s - loss: 0.7381 - accuracy: 0.7551 - val_loss: 0.4241 - val_accuracy: 0.8699 - 24s/epoch - 13ms/step\n",
            "Epoch 2/15\n",
            "1875/1875 - 20s - loss: 0.3839 - accuracy: 0.8834 - val_loss: 0.3035 - val_accuracy: 0.9105 - 20s/epoch - 11ms/step\n",
            "Epoch 3/15\n",
            "1875/1875 - 19s - loss: 0.3096 - accuracy: 0.9082 - val_loss: 0.3018 - val_accuracy: 0.9064 - 19s/epoch - 10ms/step\n",
            "Epoch 4/15\n",
            "1875/1875 - 23s - loss: 0.2757 - accuracy: 0.9176 - val_loss: 0.2651 - val_accuracy: 0.9245 - 23s/epoch - 12ms/step\n",
            "Epoch 5/15\n",
            "1875/1875 - 22s - loss: 0.2522 - accuracy: 0.9255 - val_loss: 0.2563 - val_accuracy: 0.9249 - 22s/epoch - 12ms/step\n",
            "Epoch 6/15\n",
            "1875/1875 - 20s - loss: 0.2416 - accuracy: 0.9280 - val_loss: 0.2285 - val_accuracy: 0.9333 - 20s/epoch - 10ms/step\n",
            "Epoch 7/15\n",
            "1875/1875 - 21s - loss: 0.2292 - accuracy: 0.9331 - val_loss: 0.2290 - val_accuracy: 0.9349 - 21s/epoch - 11ms/step\n",
            "Epoch 8/15\n",
            "1875/1875 - 20s - loss: 0.2150 - accuracy: 0.9371 - val_loss: 0.2071 - val_accuracy: 0.9417 - 20s/epoch - 11ms/step\n",
            "Epoch 9/15\n",
            "1875/1875 - 22s - loss: 0.2137 - accuracy: 0.9372 - val_loss: 0.2249 - val_accuracy: 0.9364 - 22s/epoch - 11ms/step\n",
            "Epoch 10/15\n",
            "1875/1875 - 22s - loss: 0.2055 - accuracy: 0.9400 - val_loss: 0.2071 - val_accuracy: 0.9419 - 22s/epoch - 12ms/step\n",
            "Epoch 11/15\n",
            "1875/1875 - 20s - loss: 0.1958 - accuracy: 0.9432 - val_loss: 0.2174 - val_accuracy: 0.9402 - 20s/epoch - 11ms/step\n",
            "Epoch 12/15\n",
            "1875/1875 - 21s - loss: 0.1962 - accuracy: 0.9430 - val_loss: 0.2120 - val_accuracy: 0.9358 - 21s/epoch - 11ms/step\n",
            "Epoch 13/15\n",
            "1875/1875 - 21s - loss: 0.1887 - accuracy: 0.9441 - val_loss: 0.1876 - val_accuracy: 0.9456 - 21s/epoch - 11ms/step\n",
            "Epoch 14/15\n",
            "1875/1875 - 22s - loss: 0.1801 - accuracy: 0.9481 - val_loss: 0.1698 - val_accuracy: 0.9532 - 22s/epoch - 12ms/step\n",
            "Epoch 15/15\n",
            "1875/1875 - 21s - loss: 0.1835 - accuracy: 0.9462 - val_loss: 0.1852 - val_accuracy: 0.9458 - 21s/epoch - 11ms/step\n"
          ]
        }
      ]
    },
    {
      "cell_type": "code",
      "source": [
        "plt.plot(hist.history['accuracy'],label = 'accyracy')\n",
        "plt.plot(hist.history['loss'],label = 'loss')\n",
        "plt.plot(hist.history['val_accuracy'],label = 'val_accyracy')\n",
        "plt.plot(hist.history['val_loss'],label = 'val_loss')\n",
        "plt.legend(loc='upper left')\n",
        "plt.show()"
      ],
      "metadata": {
        "colab": {
          "base_uri": "https://localhost:8080/",
          "height": 265
        },
        "id": "w3n2NDT_dgwr",
        "outputId": "c0264a07-bee9-4a7f-c61c-8575dc1de5d6"
      },
      "execution_count": 56,
      "outputs": [
        {
          "output_type": "display_data",
          "data": {
            "image/png": "[encoded data removed]",
            "text/plain": [
              "<Figure size 432x288 with 1 Axes>"
            ]
          },
          "metadata": {
            "needs_background": "light"
          }
        }
      ]
    },
    {
      "cell_type": "code",
      "source": [
        "res = model.predict(test_noisy_images[:1])\n",
        "res.shape"
      ],
      "metadata": {
        "colab": {
          "base_uri": "https://localhost:8080/"
        },
        "id": "Xjo0PXAQd7DO",
        "outputId": "41ccf945-c3a0-47ff-c4ed-ec767cb7d299"
      },
      "execution_count": 57,
      "outputs": [
        {
          "output_type": "execute_result",
          "data": {
            "text/plain": [
              "(1, 10)"
            ]
          },
          "metadata": {},
          "execution_count": 57
        }
      ]
    },
    {
      "cell_type": "code",
      "source": [
        "plt.imshow(np.concatenate([test_noisy_images[0],test_images[0]],axis=1))\n",
        "plt.show()"
      ],
      "metadata": {
        "colab": {
          "base_uri": "https://localhost:8080/",
          "height": 216
        },
        "id": "7YsVlBjieBmq",
        "outputId": "939b8c0a-535e-4165-92b9-86e3ee1724a3"
      },
      "execution_count": 58,
      "outputs": [
        {
          "output_type": "display_data",
          "data": {
            "image/png": "[encoded data removed]",
            "text/plain": [
              "<Figure size 432x288 with 1 Axes>"
            ]
          },
          "metadata": {
            "needs_background": "light"
          }
        }
      ]
    },
    {
      "cell_type": "code",
      "source": [
        "plt.bar(range(0,10),res[0],color = 'red')\n",
        "plt.bar(np.array(range(10))+0.35, test_labels[0])\n",
        "plt.show()"
      ],
      "metadata": {
        "colab": {
          "base_uri": "https://localhost:8080/",
          "height": 265
        },
        "id": "fYtGtX55eJcp",
        "outputId": "1cd42215-79e1-4844-d8e9-66f1373612d5"
      },
      "execution_count": 59,
      "outputs": [
        {
          "output_type": "display_data",
          "data": {
            "image/png": "[encoded data removed]",
            "text/plain": [
              "<Figure size 432x288 with 1 Axes>"
            ]
          },
          "metadata": {
            "needs_background": "light"
          }
        }
      ]
    },
    {
      "cell_type": "code",
      "source": [
        ""
      ],
      "metadata": {
        "id": "54ANudcaeVtW"
      },
      "execution_count": null,
      "outputs": []
    }
  ]
}