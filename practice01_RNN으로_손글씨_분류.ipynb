{
  "nbformat": 4,
  "nbformat_minor": 0,
  "metadata": {
    "colab": {
      "name": "[실습]Part1_Ch01_이미지 분류 - RNN으로 손글씨 이미지분류하기.ipynb",
      "provenance": [],
      "collapsed_sections": [
        "Kz3kWteP8Kap"
      ]
    },
    "kernelspec": {
      "name": "python3",
      "display_name": "Python 3"
    }
  },
  "cells": [
    {
      "cell_type": "markdown",
      "metadata": {
        "id": "oR0VJlz7mi5A"
      },
      "source": [
        "# 주제 : 이미지 분류 - RNN으로 손글씨 이미지 분류하기\n",
        "--------------\n",
        "## 실습 가이드\n",
        "    1. 데이터를 다운로드하여 Colab에 불러옵니다.\n",
        "    2. 필요한 라이브러리는 모두 코드로 작성되어 있습니다.\n",
        "    3. 코드는 위에서부터 아래로 순서대로 실행합니다.\n",
        "    4. 전체 문제 구성은 좌측 첫 번째 아이콘을 통해 확인할 수 있습니다.\n",
        "\n",
        "## 데이터 소개  \n",
        "    - 이번 주제의 데이터는 너무나 유명한 MNIST 데이터를 사용합니다.\n",
        "  ![mnist 이미지](https://www.mdpi.com/applsci/applsci-09-03169/article_deploy/html/images/applsci-09-03169-g001.png)\n",
        "\n",
        "      위의 이미지는 다음과 같은 것을 보여줍니다.  \n",
        "      (a) 28x28의 배열에서 3이 어떻게 모사되는지   \n",
        "      (b) 각 0-9까지의 다양한 그림의 모습들\n",
        "\n",
        "\n",
        "- 데이터 출처: [MNIST](http://yann.lecun.com/exdb/mnist/)\n",
        "\n",
        "\n",
        "## 최종 목표\n",
        "\n",
        "    - 이전에 배웠던 MNIST fully-conntect network과 CNN classificaion외 RNN식 접근을 배워본다.  \n",
        "    - 또한, data augmentation 기법의 기초가 될 수 있는 이미지에 noisy와 같은 변형을 줄 수 있는 방법을 알아본다.\n",
        "    - 이미지에 대한 RNN 접근 방법을 배울 수 있습니다.\n",
        "\n",
        "- 출제자 : 손근영 강사\n",
        "---\n"
      ]
    },
    {
      "cell_type": "code",
      "metadata": {
        "id": "e7kl3hgkikbo"
      },
      "source": [
        "import tensorflow as tf\n",
        "from tensorflow import keras\n",
        "from keras.layers import Dense\n",
        "from keras.models import Sequential\n",
        "\n",
        "import pandas as pd\n",
        "import numpy as np\n",
        "import matplotlib.pyplot as plt\n",
        "import seaborn as sns\n",
        "import warnings \n",
        "from IPython.display import Image\n",
        "\n",
        "warnings.filterwarnings('ignore')\n",
        "%matplotlib inline\n",
        "\n",
        "SEED = 34"
      ],
      "execution_count": 1,
      "outputs": []
    },
    {
      "cell_type": "markdown",
      "metadata": {
        "id": "c5uDUVunS1Yk"
      },
      "source": [
        "## Step 1. 도입전 기본 처리"
      ]
    },
    {
      "cell_type": "markdown",
      "metadata": {
        "id": "2Bgf6uZtoBob"
      },
      "source": [
        "### 문제 1. mnist 데이터 살펴보기"
      ]
    },
    {
      "cell_type": "code",
      "metadata": {
        "id": "l2NW5G5nTgsb",
        "colab": {
          "base_uri": "https://localhost:8080/"
        },
        "outputId": "e8d5c0c9-529a-4ebc-8c45-c682f256d928"
      },
      "source": [
        "# 데이터를 불러오는 코드를 작성해주세요.\n",
        "mnist = keras.datasets.mnist\n",
        "mnist.load_data()"
      ],
      "execution_count": 2,
      "outputs": [
        {
          "output_type": "execute_result",
          "data": {
            "text/plain": [
              "((array([[[0, 0, 0, ..., 0, 0, 0],\n",
              "          [0, 0, 0, ..., 0, 0, 0],\n",
              "          [0, 0, 0, ..., 0, 0, 0],\n",
              "          ...,\n",
              "          [0, 0, 0, ..., 0, 0, 0],\n",
              "          [0, 0, 0, ..., 0, 0, 0],\n",
              "          [0, 0, 0, ..., 0, 0, 0]],\n",
              "  \n",
              "         [[0, 0, 0, ..., 0, 0, 0],\n",
              "          [0, 0, 0, ..., 0, 0, 0],\n",
              "          [0, 0, 0, ..., 0, 0, 0],\n",
              "          ...,\n",
              "          [0, 0, 0, ..., 0, 0, 0],\n",
              "          [0, 0, 0, ..., 0, 0, 0],\n",
              "          [0, 0, 0, ..., 0, 0, 0]],\n",
              "  \n",
              "         [[0, 0, 0, ..., 0, 0, 0],\n",
              "          [0, 0, 0, ..., 0, 0, 0],\n",
              "          [0, 0, 0, ..., 0, 0, 0],\n",
              "          ...,\n",
              "          [0, 0, 0, ..., 0, 0, 0],\n",
              "          [0, 0, 0, ..., 0, 0, 0],\n",
              "          [0, 0, 0, ..., 0, 0, 0]],\n",
              "  \n",
              "         ...,\n",
              "  \n",
              "         [[0, 0, 0, ..., 0, 0, 0],\n",
              "          [0, 0, 0, ..., 0, 0, 0],\n",
              "          [0, 0, 0, ..., 0, 0, 0],\n",
              "          ...,\n",
              "          [0, 0, 0, ..., 0, 0, 0],\n",
              "          [0, 0, 0, ..., 0, 0, 0],\n",
              "          [0, 0, 0, ..., 0, 0, 0]],\n",
              "  \n",
              "         [[0, 0, 0, ..., 0, 0, 0],\n",
              "          [0, 0, 0, ..., 0, 0, 0],\n",
              "          [0, 0, 0, ..., 0, 0, 0],\n",
              "          ...,\n",
              "          [0, 0, 0, ..., 0, 0, 0],\n",
              "          [0, 0, 0, ..., 0, 0, 0],\n",
              "          [0, 0, 0, ..., 0, 0, 0]],\n",
              "  \n",
              "         [[0, 0, 0, ..., 0, 0, 0],\n",
              "          [0, 0, 0, ..., 0, 0, 0],\n",
              "          [0, 0, 0, ..., 0, 0, 0],\n",
              "          ...,\n",
              "          [0, 0, 0, ..., 0, 0, 0],\n",
              "          [0, 0, 0, ..., 0, 0, 0],\n",
              "          [0, 0, 0, ..., 0, 0, 0]]], dtype=uint8),\n",
              "  array([5, 0, 4, ..., 5, 6, 8], dtype=uint8)),\n",
              " (array([[[0, 0, 0, ..., 0, 0, 0],\n",
              "          [0, 0, 0, ..., 0, 0, 0],\n",
              "          [0, 0, 0, ..., 0, 0, 0],\n",
              "          ...,\n",
              "          [0, 0, 0, ..., 0, 0, 0],\n",
              "          [0, 0, 0, ..., 0, 0, 0],\n",
              "          [0, 0, 0, ..., 0, 0, 0]],\n",
              "  \n",
              "         [[0, 0, 0, ..., 0, 0, 0],\n",
              "          [0, 0, 0, ..., 0, 0, 0],\n",
              "          [0, 0, 0, ..., 0, 0, 0],\n",
              "          ...,\n",
              "          [0, 0, 0, ..., 0, 0, 0],\n",
              "          [0, 0, 0, ..., 0, 0, 0],\n",
              "          [0, 0, 0, ..., 0, 0, 0]],\n",
              "  \n",
              "         [[0, 0, 0, ..., 0, 0, 0],\n",
              "          [0, 0, 0, ..., 0, 0, 0],\n",
              "          [0, 0, 0, ..., 0, 0, 0],\n",
              "          ...,\n",
              "          [0, 0, 0, ..., 0, 0, 0],\n",
              "          [0, 0, 0, ..., 0, 0, 0],\n",
              "          [0, 0, 0, ..., 0, 0, 0]],\n",
              "  \n",
              "         ...,\n",
              "  \n",
              "         [[0, 0, 0, ..., 0, 0, 0],\n",
              "          [0, 0, 0, ..., 0, 0, 0],\n",
              "          [0, 0, 0, ..., 0, 0, 0],\n",
              "          ...,\n",
              "          [0, 0, 0, ..., 0, 0, 0],\n",
              "          [0, 0, 0, ..., 0, 0, 0],\n",
              "          [0, 0, 0, ..., 0, 0, 0]],\n",
              "  \n",
              "         [[0, 0, 0, ..., 0, 0, 0],\n",
              "          [0, 0, 0, ..., 0, 0, 0],\n",
              "          [0, 0, 0, ..., 0, 0, 0],\n",
              "          ...,\n",
              "          [0, 0, 0, ..., 0, 0, 0],\n",
              "          [0, 0, 0, ..., 0, 0, 0],\n",
              "          [0, 0, 0, ..., 0, 0, 0]],\n",
              "  \n",
              "         [[0, 0, 0, ..., 0, 0, 0],\n",
              "          [0, 0, 0, ..., 0, 0, 0],\n",
              "          [0, 0, 0, ..., 0, 0, 0],\n",
              "          ...,\n",
              "          [0, 0, 0, ..., 0, 0, 0],\n",
              "          [0, 0, 0, ..., 0, 0, 0],\n",
              "          [0, 0, 0, ..., 0, 0, 0]]], dtype=uint8),\n",
              "  array([7, 2, 1, ..., 4, 5, 6], dtype=uint8)))"
            ]
          },
          "metadata": {},
          "execution_count": 2
        }
      ]
    },
    {
      "cell_type": "code",
      "source": [
        "((train_images,train_labels),(test_images,test_labels)) = mnist.load_data()"
      ],
      "metadata": {
        "id": "ibHq1-9f6STZ"
      },
      "execution_count": 3,
      "outputs": []
    },
    {
      "cell_type": "markdown",
      "metadata": {
        "id": "ko4D-BpJTq2r"
      },
      "source": [
        "### 문제 2. 데이터의 shape을 출력해보세요."
      ]
    },
    {
      "cell_type": "code",
      "metadata": {
        "id": "waksbx9aT5tK",
        "colab": {
          "base_uri": "https://localhost:8080/"
        },
        "outputId": "df9732ea-1aa9-4c21-fb65-62180cc1c40a"
      },
      "source": [
        "# 데이터의 크기를 shape 함수를 통해 출력해주세요.\n",
        "print(f'train_images : {train_images.shape}')\n",
        "print(f'train_labels : {train_labels.shape}')\n",
        "print(f'test_images : {test_images.shape}')\n",
        "print(f'test_labels : {test_labels.shape}')"
      ],
      "execution_count": 4,
      "outputs": [
        {
          "output_type": "stream",
          "name": "stdout",
          "text": [
            "train_images : (60000, 28, 28)\n",
            "train_labels : (60000,)\n",
            "test_images : (10000, 28, 28)\n",
            "test_labels : (10000,)\n"
          ]
        }
      ]
    },
    {
      "cell_type": "markdown",
      "metadata": {
        "id": "hrmQ7HzEUKrz"
      },
      "source": [
        "### 문제 3. (28, 28) 형태의 이미지를 plt을 이용하여 출력해보세요."
      ]
    },
    {
      "cell_type": "code",
      "metadata": {
        "id": "fVzGHMSYUUKk",
        "colab": {
          "base_uri": "https://localhost:8080/",
          "height": 265
        },
        "outputId": "8303ef89-96da-4658-c261-a76934bae358"
      },
      "source": [
        "# 28x28의 흑백 이미지를 plt를 이용하여 출력하는 코드를 작성해보세요.\n",
        "plt.figure()\n",
        "plt.imshow(train_images[0])\n",
        "plt.colorbar()\n",
        "plt.grid()\n",
        "plt.show()"
      ],
      "execution_count": 5,
      "outputs": [
        {
          "output_type": "display_data",
          "data": {
            "image/png": "[encoded data removed]",
            "text/plain": [
              "<Figure size 432x288 with 2 Axes>"
            ]
          },
          "metadata": {
            "needs_background": "light"
          }
        }
      ]
    },
    {
      "cell_type": "markdown",
      "metadata": {
        "id": "vDLHexaGUs17"
      },
      "source": [
        "### 문제 4. train_images에서 0이 아닌 값들을 출력해보세요."
      ]
    },
    {
      "cell_type": "code",
      "metadata": {
        "id": "1NYdCv1yUsKG",
        "colab": {
          "base_uri": "https://localhost:8080/"
        },
        "outputId": "ff07338c-3837-4f55-876c-7c52d88310e7"
      },
      "source": [
        "# 하나의 이미지에 대한 모든 0이 아닌 값을 출력하는 코드를 작성하세요.\n",
        "list(filter(lambda x: x!=0,train_images[0].reshape(-1)))[:10] # filter는 앞의 함수 값이 참이여야만 반환해주는 함수"
      ],
      "execution_count": 6,
      "outputs": [
        {
          "output_type": "execute_result",
          "data": {
            "text/plain": [
              "[3, 18, 18, 18, 126, 136, 175, 26, 166, 255]"
            ]
          },
          "metadata": {},
          "execution_count": 6
        }
      ]
    },
    {
      "cell_type": "markdown",
      "metadata": {
        "id": "CZOhbFOFU_jr"
      },
      "source": [
        "### 문제 5. train_images의 dtype을 출력해보세요."
      ]
    },
    {
      "cell_type": "code",
      "metadata": {
        "id": "nVc4kjgAVNl7",
        "colab": {
          "base_uri": "https://localhost:8080/"
        },
        "outputId": "36303eb7-3ce6-4bc0-e00e-4657a61b70c1"
      },
      "source": [
        "# dtype을 이용하여 이미지의 np array type을 확인해보세요.\n",
        "\n",
        "print(f'train_images.dtype : {train_images.dtype}')\n",
        "print(f'train_labels.dtype : {train_labels.dtype}')\n",
        "print(f'test_images.dtype : {test_images.dtype}')\n",
        "print(f'test_labels.dtype : {test_labels.dtype}')"
      ],
      "execution_count": 7,
      "outputs": [
        {
          "output_type": "stream",
          "name": "stdout",
          "text": [
            "train_images.dtype : uint8\n",
            "train_labels.dtype : uint8\n",
            "test_images.dtype : uint8\n",
            "test_labels.dtype : uint8\n"
          ]
        }
      ]
    },
    {
      "cell_type": "markdown",
      "metadata": {
        "id": "eKv9UoZAxTr6"
      },
      "source": [
        "## Step 2. 전처리"
      ]
    },
    {
      "cell_type": "markdown",
      "metadata": {
        "id": "UTXpP1Imyaad"
      },
      "source": [
        "### 문제 6. train/test 이미지 데이터의 범위 확인"
      ]
    },
    {
      "cell_type": "code",
      "metadata": {
        "id": "Ji6XLxvRy5eJ",
        "colab": {
          "base_uri": "https://localhost:8080/"
        },
        "outputId": "1a164284-77cd-41e0-c2d7-d66af3193255"
      },
      "source": [
        "# test_images의 shape과 dtype, 0이 아닌 숫자를 출력하는 코드를 작성하세요.\n",
        "print(f'0이 아닌 숫자를 출력 : {list(filter(lambda x: x!=0, test_images.reshape(-1)))[:10]}')\n",
        "print(f'test_images : {test_images.shape}')\n",
        "print(f'test_imagesdtype : {test_images.dtype}')"
      ],
      "execution_count": 8,
      "outputs": [
        {
          "output_type": "stream",
          "name": "stdout",
          "text": [
            "0이 아닌 숫자를 출력 : [84, 185, 159, 151, 60, 36, 222, 254, 254, 254]\n",
            "test_images : (10000, 28, 28)\n",
            "test_imagesdtype : uint8\n"
          ]
        }
      ]
    },
    {
      "cell_type": "markdown",
      "metadata": {
        "id": "7OpFGbD6V8Zl"
      },
      "source": [
        "### 문제 7. train/test 이미지 데이터의 최소/최대값을 출력"
      ]
    },
    {
      "cell_type": "code",
      "metadata": {
        "id": "sFOJNRTvYo7d",
        "colab": {
          "base_uri": "https://localhost:8080/"
        },
        "outputId": "c0f3157c-689c-461c-aee5-9db4b6b6a0b8"
      },
      "source": [
        "# train/test 전체 데이터에서 각 images, labels의 min, max를 출력하는 코드를 작성하세요.\n",
        "print(f'max train_images : {max(train_images.reshape(-1))}')\n",
        "print(f'min train_images : {min(train_images.reshape(-1))}')\n",
        "print(f'max test_images : {max(test_images.reshape(-1))}')\n",
        "print(f'min test_images : {min(test_images.reshape(-1))}')\n",
        "print(f'max train_labels : {max(train_labels.reshape(-1))}')\n",
        "print(f'min train_labels : {min(train_labels.reshape(-1))}')\n",
        "print(f'max test_labels : {max(test_labels.reshape(-1))}')\n",
        "print(f'min test_labels : {min(test_labels.reshape(-1))}')"
      ],
      "execution_count": 9,
      "outputs": [
        {
          "output_type": "stream",
          "name": "stdout",
          "text": [
            "max train_images : 255\n",
            "min train_images : 0\n",
            "max test_images : 255\n",
            "min test_images : 0\n",
            "max train_labels : 9\n",
            "min train_labels : 0\n",
            "max test_labels : 9\n",
            "min test_labels : 0\n"
          ]
        }
      ]
    },
    {
      "cell_type": "markdown",
      "metadata": {
        "id": "W_xsByHegZhh"
      },
      "source": [
        "### 문제 8. 정수형을 실수형으로 변경 후 dtype으로 비교"
      ]
    },
    {
      "cell_type": "code",
      "metadata": {
        "id": "Y88qmAVChg_Z",
        "colab": {
          "base_uri": "https://localhost:8080/"
        },
        "outputId": "ee843392-178f-4664-acad-5006b7017cf9"
      },
      "source": [
        "# train/test 데이터의 타입을 dtype으로 확인해보고 실수형으로 전환하는 코드를 작성하세요.\n",
        "print(f'train_dtype : {train_images.dtype}')\n",
        "print(f'test_dtype : {test_images.dtype}')\n",
        "train_images = train_images.astype(np.float64)\n",
        "test_images = test_images.astype(np.float64)\n",
        "print(f'train_dtype : {train_images.dtype}')\n",
        "print(f'test_dtype : {test_images.dtype}')"
      ],
      "execution_count": 10,
      "outputs": [
        {
          "output_type": "stream",
          "name": "stdout",
          "text": [
            "train_dtype : uint8\n",
            "test_dtype : uint8\n",
            "train_dtype : float64\n",
            "test_dtype : float64\n"
          ]
        }
      ]
    },
    {
      "cell_type": "markdown",
      "metadata": {
        "id": "9iIJK2qsfevX"
      },
      "source": [
        "### 문제 9. 데이터 0-1 노말라이즈 수행\n"
      ]
    },
    {
      "cell_type": "markdown",
      "metadata": {
        "id": "L0f__zuBfotM"
      },
      "source": [
        "#### 힌트\n",
        "\n",
        "일반적으로 0-1사의의 값을 가지게 하기 위해서는 다음 수식을 사용합니다.\n",
        "\n",
        "$$normalize(x) = \\frac{x - 최소값}{최대값 - 최소값}$$\n",
        "\n",
        "이 경우 최소값이 0이기 떄문에 다음과 같이 간편하게 구할 수 있습니다.\n",
        "\n",
        "$$normalize(x) = \\frac{x}{최대값}$$"
      ]
    },
    {
      "cell_type": "code",
      "metadata": {
        "id": "SV2A6JZBf7Ku"
      },
      "source": [
        "# images의 값이 0-1사이의 값을 같도록 코드를 작성해보세요.\n",
        "train_images = train_images/255\n",
        "test_images = test_images/255"
      ],
      "execution_count": 11,
      "outputs": []
    },
    {
      "cell_type": "markdown",
      "metadata": {
        "id": "8QqqdPzDiC3F"
      },
      "source": [
        "### 문제 10. 0-1 노말라이즈 후 데이터의 값이 변경되었는지 문제 6, 7의 방법을 이용하여 확인하세요."
      ]
    },
    {
      "cell_type": "markdown",
      "metadata": {
        "id": "C_04Z-Kj2uyh"
      },
      "source": [
        "노말라이즈가 제대로 됐는지 확안해 보겠습니다."
      ]
    },
    {
      "cell_type": "code",
      "metadata": {
        "id": "t-ZKXRKO2rBE",
        "colab": {
          "base_uri": "https://localhost:8080/"
        },
        "outputId": "51d4c503-909c-4521-e20a-d74ee0bece86"
      },
      "source": [
        "# 노말라이즈 후 min/max, shape, 0이 아닌 값, dtype 등을 확인하는 코드를 작성해보세요.\n",
        "print(f'normalize 후 0이 아닌 값: {list(filter(lambda x: x!=0, train_images[0].reshape(-1)))[:10]}') \n",
        "print(f'normalize 후 min : {min(test_images[0].reshape(-1))}') \n",
        "print(f'normalize 후 max :  {max(test_images[0].reshape(-1))}') \n",
        "print(f'normalize 후 shape : {test_images.shape}') \n",
        "print(f'normalize 후 dtype : {test_images.dtype}') "
      ],
      "execution_count": 12,
      "outputs": [
        {
          "output_type": "stream",
          "name": "stdout",
          "text": [
            "normalize 후 0이 아닌 값: [0.011764705882352941, 0.07058823529411765, 0.07058823529411765, 0.07058823529411765, 0.49411764705882355, 0.5333333333333333, 0.6862745098039216, 0.10196078431372549, 0.6509803921568628, 1.0]\n",
            "normalize 후 min : 0.0\n",
            "normalize 후 max :  1.0\n",
            "normalize 후 shape : (10000, 28, 28)\n",
            "normalize 후 dtype : float64\n"
          ]
        }
      ]
    },
    {
      "cell_type": "markdown",
      "metadata": {
        "id": "SMyUArry3UhT"
      },
      "source": [
        "## Step 3. 시각화 방법"
      ]
    },
    {
      "cell_type": "markdown",
      "metadata": {
        "id": "UFga-Bbo6L0E"
      },
      "source": [
        "### 문제 11. train_image의 이미지를 5장 획득하여 (5, 28, 28)의 shape을 출력하세요."
      ]
    },
    {
      "cell_type": "code",
      "metadata": {
        "id": "cLaqqwz4i_7D",
        "colab": {
          "base_uri": "https://localhost:8080/"
        },
        "outputId": "f7240a61-bb4c-4bdd-d504-05c5f9c0bdc3"
      },
      "source": [
        "# (60000, 28, 28)인 train_images에서 (5, 28, 28)을 획득하는 코드를 작성하세요.\n",
        "train_images[:5].shape"
      ],
      "execution_count": 13,
      "outputs": [
        {
          "output_type": "execute_result",
          "data": {
            "text/plain": [
              "(5, 28, 28)"
            ]
          },
          "metadata": {},
          "execution_count": 13
        }
      ]
    },
    {
      "cell_type": "markdown",
      "metadata": {
        "id": "gX8JH97njNNr"
      },
      "source": [
        "### 문제 12. 획득한 5장의 의미지를 (28, 28 * 5)의 shape으로 변경해보세요."
      ]
    },
    {
      "cell_type": "code",
      "metadata": {
        "id": "bxRhMcaKk3Pa",
        "colab": {
          "base_uri": "https://localhost:8080/"
        },
        "outputId": "4e14c6da-600f-4ac0-fd25-1fca00917621"
      },
      "source": [
        "# np.hstack은 height 방향의 배열을 풀어서 width 방향으로 연결해줍니다.\n",
        "# 해당 기능을 쓰면 (height, image_height, image_width)의 shape을 (image_height, image_width * height)으로 바꿔 줄 수 있습니다.\n",
        "# 코드를 작성해보세요.\n",
        "np.hstack(train_images[:5]).shape"
      ],
      "execution_count": 14,
      "outputs": [
        {
          "output_type": "execute_result",
          "data": {
            "text/plain": [
              "(28, 140)"
            ]
          },
          "metadata": {},
          "execution_count": 14
        }
      ]
    },
    {
      "cell_type": "markdown",
      "metadata": {
        "id": "xqyaO-5bk-sj"
      },
      "source": [
        "### 문제 13. np.hstack은 tensorflow에서 제공하는 방법이 아니므로 transpose 함수를 이용하여 (28, 28 * 5)로 shape을 변경해보세요."
      ]
    },
    {
      "cell_type": "code",
      "metadata": {
        "id": "SqmKdjlGlqLJ",
        "colab": {
          "base_uri": "https://localhost:8080/"
        },
        "outputId": "785df2c7-e109-4451-f37a-6ed9a60bc42b"
      },
      "source": [
        "# transpose는 tensor의 axis를 섞는 기능을 합니다.\n",
        "# 해당 기능을 이용해서 (28, 140)을 작성하는 코드를 작성해보세요.\n",
        "train_images[:5].transpose((1,0,2)).reshape(28,-1)"
      ],
      "execution_count": 15,
      "outputs": [
        {
          "output_type": "execute_result",
          "data": {
            "text/plain": [
              "array([[0., 0., 0., ..., 0., 0., 0.],\n",
              "       [0., 0., 0., ..., 0., 0., 0.],\n",
              "       [0., 0., 0., ..., 0., 0., 0.],\n",
              "       ...,\n",
              "       [0., 0., 0., ..., 0., 0., 0.],\n",
              "       [0., 0., 0., ..., 0., 0., 0.],\n",
              "       [0., 0., 0., ..., 0., 0., 0.]])"
            ]
          },
          "metadata": {},
          "execution_count": 15
        }
      ]
    },
    {
      "cell_type": "markdown",
      "metadata": {
        "id": "T0oaToP6l0Pd"
      },
      "source": [
        "### 문제 14. (28, 140)이 된 tensor를 plt로 출력해보세요."
      ]
    },
    {
      "cell_type": "code",
      "metadata": {
        "id": "ToUpk3oBmIr1",
        "colab": {
          "base_uri": "https://localhost:8080/",
          "height": 258
        },
        "outputId": "c0fd3273-c242-4f3b-fb29-d8710a8ecb49"
      },
      "source": [
        "# (28, 140)의 이미지를 plt로 출력해보세요.\n",
        "plt.figure()\n",
        "plt.imshow(np.hstack(train_images[:5]),cmap='gray')\n",
        "plt.colorbar()\n",
        "plt.show()"
      ],
      "execution_count": 16,
      "outputs": [
        {
          "output_type": "display_data",
          "data": {
            "image/png": "[encoded data removed]",
            "text/plain": [
              "<Figure size 432x288 with 2 Axes>"
            ]
          },
          "metadata": {
            "needs_background": "light"
          }
        }
      ]
    },
    {
      "cell_type": "code",
      "source": [
        "plt.figure()\n",
        "plt.imshow(train_images[:5].transpose((1,0,2)).reshape(28,-1),cmap='gray')\n",
        "plt.colorbar()\n",
        "plt.show()"
      ],
      "metadata": {
        "colab": {
          "base_uri": "https://localhost:8080/",
          "height": 258
        },
        "id": "1-Rb0yCpLSWB",
        "outputId": "8270c8a8-729d-4a7e-cb42-64d197947e70"
      },
      "execution_count": 17,
      "outputs": [
        {
          "output_type": "display_data",
          "data": {
            "image/png": "[encoded data removed]",
            "text/plain": [
              "<Figure size 432x288 with 2 Axes>"
            ]
          },
          "metadata": {
            "needs_background": "light"
          }
        }
      ]
    },
    {
      "cell_type": "markdown",
      "metadata": {
        "id": "LDwAlHN5mQ6K"
      },
      "source": [
        "###문제 15. (28, 140)이 된 tensor를 plt로 흑백으로 출력해보세요. 또한, 해당되는 labels의 값도 print로 출력하세요.\n",
        "\n",
        "hit: imshow 함수의 cmap ='gray' 옵션은 흑백이미지를 heatmap으로 출력하지 않습니다."
      ]
    },
    {
      "cell_type": "code",
      "metadata": {
        "id": "cT-BXF6OmQUy",
        "colab": {
          "base_uri": "https://localhost:8080/",
          "height": 258
        },
        "outputId": "5d4aab4f-9ef1-491b-ebc2-a9fa51162632"
      },
      "source": [
        "# images와 labels 5개를 출력하는 코드를 작성하세요.\n",
        "plt.figure()\n",
        "plt.imshow(train_images[:5].transpose((1,0,2)).reshape(28,-1),cmap='gray')\n",
        "plt.colorbar()\n",
        "plt.show()"
      ],
      "execution_count": 18,
      "outputs": [
        {
          "output_type": "display_data",
          "data": {
            "image/png": "[encoded data removed]",
            "text/plain": [
              "<Figure size 432x288 with 2 Axes>"
            ]
          },
          "metadata": {
            "needs_background": "light"
          }
        }
      ]
    },
    {
      "cell_type": "code",
      "source": [
        "plt.figure()\n",
        "plt.imshow(np.hstack(train_images[:5]),cmap='gray')\n",
        "plt.colorbar()\n",
        "plt.show()"
      ],
      "metadata": {
        "colab": {
          "base_uri": "https://localhost:8080/",
          "height": 258
        },
        "id": "W5y-bhuSLvOy",
        "outputId": "24e04f62-a28e-4dfc-910b-a5536ffa62cf"
      },
      "execution_count": 19,
      "outputs": [
        {
          "output_type": "display_data",
          "data": {
            "image/png": "[encoded data removed]",
            "text/plain": [
              "<Figure size 432x288 with 2 Axes>"
            ]
          },
          "metadata": {
            "needs_background": "light"
          }
        }
      ]
    },
    {
      "cell_type": "markdown",
      "metadata": {
        "id": "Kz3kWteP8Kap"
      },
      "source": [
        "## Step 4. Data augmentation - Noise 추가 방법"
      ]
    },
    {
      "cell_type": "markdown",
      "metadata": {
        "id": "fesKKJqio--a"
      },
      "source": [
        "### 문제 16. np.random.random 함수를 이용하여 0-1 사이의 랜덤값을 3회 print로 출력해보시오."
      ]
    },
    {
      "cell_type": "code",
      "metadata": {
        "id": "Jsmh1keWpODx",
        "colab": {
          "base_uri": "https://localhost:8080/"
        },
        "outputId": "4ac081c0-f26d-4a04-e751-d1023b0c0f9f"
      },
      "source": [
        "# np.random.ranodm을 이용해서 0-1 사의의 랜덤값을 3회 출력하는 코드를 작성하시오.\n",
        "np.random.random((28,28))\n",
        "np.random.random((28,28))\n",
        "np.random.random((28,28))"
      ],
      "execution_count": 20,
      "outputs": [
        {
          "output_type": "execute_result",
          "data": {
            "text/plain": [
              "array([[0.27712154, 0.75848512, 0.00989892, 0.57834287, 0.63134014,\n",
              "        0.24970876, 0.87636332, 0.23929625, 0.7812878 , 0.4334474 ,\n",
              "        0.24623266, 0.1355306 , 0.52964121, 0.59516042, 0.75985201,\n",
              "        0.72185062, 0.15706507, 0.64778027, 0.86623298, 0.24094117,\n",
              "        0.02817335, 0.22693906, 0.78599652, 0.63049705, 0.62034003,\n",
              "        0.92171431, 0.87958257, 0.49169585],\n",
              "       [0.17175705, 0.46618025, 0.27858875, 0.81766287, 0.9068382 ,\n",
              "        0.16724979, 0.04080674, 0.83942293, 0.19096029, 0.11696865,\n",
              "        0.36072868, 0.93048345, 0.21156047, 0.83962587, 0.81370132,\n",
              "        0.4506584 , 0.80840346, 0.89906618, 0.15688429, 0.61813023,\n",
              "        0.17159003, 0.71872936, 0.3498787 , 0.59810859, 0.02370476,\n",
              "        0.448933  , 0.7581568 , 0.78510251],\n",
              "       [0.13206531, 0.67050552, 0.92460277, 0.92959425, 0.34807421,\n",
              "        0.40911472, 0.79930886, 0.13571383, 0.0345587 , 0.38345258,\n",
              "        0.53008447, 0.15743884, 0.61215684, 0.65732344, 0.06792951,\n",
              "        0.91672548, 0.2872395 , 0.15689015, 0.97584484, 0.93014549,\n",
              "        0.77623058, 0.53024745, 0.87506729, 0.03568666, 0.9728102 ,\n",
              "        0.03449638, 0.97563903, 0.94681421],\n",
              "       [0.94945297, 0.47392905, 0.33365013, 0.97135587, 0.99244375,\n",
              "        0.93025431, 0.93737741, 0.43834738, 0.50127507, 0.87502352,\n",
              "        0.94160646, 0.14843615, 0.7035886 , 0.35540366, 0.44951099,\n",
              "        0.2840885 , 0.68300428, 0.33578729, 0.9884902 , 0.30078937,\n",
              "        0.42327549, 0.273153  , 0.92587173, 0.43379939, 0.56571632,\n",
              "        0.0238273 , 0.17812595, 0.69973183],\n",
              "       [0.5555416 , 0.4561385 , 0.79462146, 0.59310644, 0.93470614,\n",
              "        0.91407701, 0.39347462, 0.1340576 , 0.22775253, 0.23133074,\n",
              "        0.66767096, 0.92891379, 0.93861033, 0.29511738, 0.02612806,\n",
              "        0.76270419, 0.01303975, 0.66616948, 0.41527604, 0.45428298,\n",
              "        0.03200949, 0.03418859, 0.09662717, 0.95917902, 0.85042728,\n",
              "        0.60076478, 0.33824816, 0.16877746],\n",
              "       [0.03502321, 0.00852062, 0.3200783 , 0.1889428 , 0.36603732,\n",
              "        0.15935761, 0.43436684, 0.48013747, 0.4622288 , 0.41174397,\n",
              "        0.25282016, 0.31364989, 0.57966996, 0.80272512, 0.11260741,\n",
              "        0.84647188, 0.33739917, 0.76264892, 0.36921113, 0.45695763,\n",
              "        0.72136391, 0.43268636, 0.24213735, 0.13687741, 0.27098286,\n",
              "        0.75583506, 0.63415931, 0.67187929],\n",
              "       [0.63613836, 0.02701654, 0.36427131, 0.45355247, 0.27214418,\n",
              "        0.74017913, 0.20763869, 0.49929602, 0.96850331, 0.25527379,\n",
              "        0.62797969, 0.48968082, 0.20814189, 0.6644935 , 0.75662942,\n",
              "        0.90377303, 0.59119914, 0.92660187, 0.84471217, 0.70532158,\n",
              "        0.46071677, 0.54945685, 0.75933758, 0.28659164, 0.01477494,\n",
              "        0.72694813, 0.16042653, 0.2204619 ],\n",
              "       [0.54064318, 0.08021054, 0.56245554, 0.92383982, 0.47736004,\n",
              "        0.15567795, 0.47427091, 0.30711301, 0.89741938, 0.87777405,\n",
              "        0.31112916, 0.96947528, 0.33112087, 0.16323204, 0.33425165,\n",
              "        0.59393317, 0.43497518, 0.18284284, 0.63671762, 0.3764344 ,\n",
              "        0.50116943, 0.44650937, 0.54594498, 0.45514817, 0.10789165,\n",
              "        0.47856338, 0.77084522, 0.09544727],\n",
              "       [0.1973258 , 0.76677187, 0.24779593, 0.22399402, 0.86046741,\n",
              "        0.15270221, 0.19595096, 0.99966948, 0.69855712, 0.29931799,\n",
              "        0.11972958, 0.45127459, 0.185676  , 0.80133267, 0.29970387,\n",
              "        0.18215607, 0.82849343, 0.25519296, 0.56281598, 0.02734182,\n",
              "        0.17990214, 0.91051964, 0.79348619, 0.53831202, 0.29112026,\n",
              "        0.02789182, 0.33814221, 0.31398395],\n",
              "       [0.42338579, 0.93366779, 0.97076847, 0.56344125, 0.19057091,\n",
              "        0.38836469, 0.39466768, 0.04649757, 0.0389333 , 0.75733893,\n",
              "        0.18207626, 0.56793181, 0.52803945, 0.77174046, 0.54469921,\n",
              "        0.92133967, 0.31346062, 0.71147458, 0.22210391, 0.99018266,\n",
              "        0.65584969, 0.782752  , 0.2478038 , 0.0847471 , 0.31935151,\n",
              "        0.44335758, 0.03267633, 0.50072706],\n",
              "       [0.79343551, 0.23282721, 0.5377983 , 0.37259551, 0.97375868,\n",
              "        0.35670335, 0.69706279, 0.60731881, 0.31587676, 0.32253998,\n",
              "        0.30798939, 0.81795667, 0.21632591, 0.92750871, 0.03258243,\n",
              "        0.84387076, 0.14802128, 0.9895486 , 0.31075197, 0.39669126,\n",
              "        0.65472116, 0.99577226, 0.71434138, 0.91372348, 0.94850415,\n",
              "        0.61492995, 0.22877744, 0.40557341],\n",
              "       [0.35538296, 0.8504168 , 0.00535922, 0.2621381 , 0.88815583,\n",
              "        0.58964573, 0.50148152, 0.24613517, 0.83651416, 0.92374477,\n",
              "        0.4646582 , 0.53361381, 0.00223796, 0.01931397, 0.27794186,\n",
              "        0.97386107, 0.481589  , 0.37904046, 0.41468497, 0.096306  ,\n",
              "        0.63176267, 0.56173206, 0.72470658, 0.4762396 , 0.22972061,\n",
              "        0.96817193, 0.18381817, 0.91156046],\n",
              "       [0.19006563, 0.92061838, 0.82395107, 0.32950814, 0.99072199,\n",
              "        0.95341373, 0.3389179 , 0.01690092, 0.48797292, 0.12042667,\n",
              "        0.22885558, 0.64094105, 0.49096935, 0.70892896, 0.76664852,\n",
              "        0.19919533, 0.16106455, 0.7124819 , 0.05509893, 0.60962227,\n",
              "        0.49358536, 0.9094189 , 0.35832504, 0.86367645, 0.46089639,\n",
              "        0.51494995, 0.6550819 , 0.26689612],\n",
              "       [0.11005024, 0.23158499, 0.75586846, 0.25294901, 0.6378012 ,\n",
              "        0.21017878, 0.44659106, 0.03702795, 0.60784311, 0.30264394,\n",
              "        0.22634186, 0.88383198, 0.93610342, 0.61706573, 0.8995001 ,\n",
              "        0.0252297 , 0.5893068 , 0.31431724, 0.09743408, 0.07531567,\n",
              "        0.30392131, 0.14720225, 0.45377164, 0.54401295, 0.06066291,\n",
              "        0.78974155, 0.58417155, 0.15390962],\n",
              "       [0.65943938, 0.98080714, 0.01333448, 0.50494033, 0.57622414,\n",
              "        0.72968382, 0.37617614, 0.62715251, 0.93171612, 0.41344143,\n",
              "        0.77030682, 0.90521534, 0.41536946, 0.68293997, 0.25955931,\n",
              "        0.12065489, 0.5306911 , 0.87183331, 0.66793707, 0.6834903 ,\n",
              "        0.30244606, 0.01832443, 0.77163699, 0.92349936, 0.48765306,\n",
              "        0.87520104, 0.7048329 , 0.56803071],\n",
              "       [0.09880228, 0.30743747, 0.39726666, 0.73981208, 0.04135794,\n",
              "        0.04466661, 0.61215679, 0.87667385, 0.19367029, 0.21457012,\n",
              "        0.47026762, 0.85154316, 0.30306965, 0.44981607, 0.21080466,\n",
              "        0.40205657, 0.26371404, 0.58129637, 0.58130434, 0.55068993,\n",
              "        0.15928962, 0.16593842, 0.20361272, 0.3636123 , 0.58562255,\n",
              "        0.8055124 , 0.42844981, 0.20035902],\n",
              "       [0.61735221, 0.34353167, 0.54856019, 0.37251015, 0.55870162,\n",
              "        0.83649507, 0.64779559, 0.94104304, 0.58300985, 0.53335335,\n",
              "        0.97483718, 0.27822843, 0.88201008, 0.79560372, 0.41348229,\n",
              "        0.83935926, 0.32667262, 0.00318213, 0.06851404, 0.68333204,\n",
              "        0.62240086, 0.98255273, 0.48273561, 0.57044179, 0.84534384,\n",
              "        0.50710131, 0.4707888 , 0.33717022],\n",
              "       [0.47005527, 0.73223639, 0.3636068 , 0.18281532, 0.90510369,\n",
              "        0.89748793, 0.31744133, 0.66496905, 0.83182692, 0.11876366,\n",
              "        0.96613664, 0.11115348, 0.86133058, 0.03060827, 0.09318935,\n",
              "        0.40925541, 0.1285136 , 0.93510974, 0.44215583, 0.61564982,\n",
              "        0.85661033, 0.16079422, 0.51239369, 0.1909125 , 0.17391886,\n",
              "        0.84757416, 0.77050178, 0.51682539],\n",
              "       [0.52128244, 0.14835875, 0.49735709, 0.3042337 , 0.10828225,\n",
              "        0.13660959, 0.77246951, 0.61900726, 0.37533256, 0.64180174,\n",
              "        0.72888229, 0.94712933, 0.38036422, 0.30285316, 0.48079878,\n",
              "        0.37154944, 0.02303173, 0.68799438, 0.86394289, 0.7336706 ,\n",
              "        0.61003185, 0.98768862, 0.02930448, 0.04594182, 0.12435815,\n",
              "        0.4822256 , 0.60156235, 0.26648344],\n",
              "       [0.23211583, 0.52492602, 0.02600422, 0.5231959 , 0.83923231,\n",
              "        0.04112265, 0.51495215, 0.14011969, 0.89815234, 0.8100742 ,\n",
              "        0.80400738, 0.81015841, 0.33168296, 0.35556195, 0.01888276,\n",
              "        0.64998979, 0.45279681, 0.97928804, 0.22660042, 0.84017963,\n",
              "        0.41117577, 0.543417  , 0.54432988, 0.27308377, 0.83828573,\n",
              "        0.94849494, 0.30758831, 0.65596297],\n",
              "       [0.32072949, 0.16452786, 0.77964098, 0.73360817, 0.27982747,\n",
              "        0.39970772, 0.05983207, 0.21771181, 0.04701931, 0.82214466,\n",
              "        0.42926215, 0.64807991, 0.11893094, 0.96070606, 0.04298183,\n",
              "        0.63968456, 0.89251576, 0.14927324, 0.41527761, 0.68397965,\n",
              "        0.13556878, 0.95514632, 0.29487901, 0.32000673, 0.32122321,\n",
              "        0.41877495, 0.44396304, 0.13864042],\n",
              "       [0.73649698, 0.80357084, 0.67594888, 0.43275415, 0.22516876,\n",
              "        0.5549567 , 0.3461375 , 0.70897758, 0.42398956, 0.61790507,\n",
              "        0.76760828, 0.16811456, 0.745815  , 0.31197215, 0.53838896,\n",
              "        0.39681239, 0.703635  , 0.5771617 , 0.48699352, 0.44183315,\n",
              "        0.99536256, 0.26942728, 0.1093061 , 0.40309012, 0.86576647,\n",
              "        0.2109065 , 0.00117759, 0.86757722],\n",
              "       [0.58222178, 0.25546217, 0.06347661, 0.13360908, 0.60912633,\n",
              "        0.775783  , 0.30973623, 0.34645231, 0.93415884, 0.96787364,\n",
              "        0.85676587, 0.90482788, 0.31524554, 0.24459399, 0.30158448,\n",
              "        0.59989995, 0.89834057, 0.02464869, 0.05158476, 0.93618249,\n",
              "        0.0055889 , 0.35044815, 0.63081969, 0.57098738, 0.24162306,\n",
              "        0.09595026, 0.9711557 , 0.52699654],\n",
              "       [0.55127503, 0.19396254, 0.51637561, 0.11546919, 0.38311353,\n",
              "        0.79622985, 0.49644245, 0.61348052, 0.5114604 , 0.05462312,\n",
              "        0.42910415, 0.8558115 , 0.51550708, 0.91329958, 0.95414588,\n",
              "        0.58230195, 0.43048955, 0.75907624, 0.37213509, 0.89285709,\n",
              "        0.00355958, 0.33000321, 0.39005533, 0.20642264, 0.03481228,\n",
              "        0.07786961, 0.91744521, 0.11398289],\n",
              "       [0.07060702, 0.43320236, 0.83951151, 0.1573389 , 0.27591659,\n",
              "        0.22419565, 0.40653247, 0.39471813, 0.2697978 , 0.92515202,\n",
              "        0.28131394, 0.10675149, 0.28804802, 0.57513555, 0.70531557,\n",
              "        0.12105877, 0.02837222, 0.69140952, 0.30669289, 0.06799061,\n",
              "        0.69983626, 0.45030992, 0.70086908, 0.38335014, 0.88771047,\n",
              "        0.21318702, 0.81165887, 0.52370738],\n",
              "       [0.70240645, 0.92327007, 0.46127926, 0.70537034, 0.15105132,\n",
              "        0.07497875, 0.84301501, 0.41644674, 0.33483826, 0.7609252 ,\n",
              "        0.86768903, 0.20900001, 0.50637735, 0.7947558 , 0.24272504,\n",
              "        0.76401287, 0.7240981 , 0.84999033, 0.55612498, 0.26505032,\n",
              "        0.50727311, 0.68770542, 0.13775824, 0.92514118, 0.56633574,\n",
              "        0.61820669, 0.97024391, 0.27848107],\n",
              "       [0.70086446, 0.15062467, 0.76555606, 0.88614881, 0.34271922,\n",
              "        0.74283661, 0.48187533, 0.1540299 , 0.46447079, 0.32929966,\n",
              "        0.10283338, 0.84007699, 0.76840402, 0.75970657, 0.84552757,\n",
              "        0.20863591, 0.43286243, 0.48927999, 0.71890979, 0.35308211,\n",
              "        0.04674363, 0.42252641, 0.58845035, 0.84739577, 0.01704102,\n",
              "        0.95826175, 0.40545515, 0.44062866],\n",
              "       [0.87144676, 0.19402197, 0.43141127, 0.08527932, 0.46730053,\n",
              "        0.94392476, 0.57227739, 0.84176635, 0.65076373, 0.05631636,\n",
              "        0.18687568, 0.08031187, 0.5024527 , 0.47137722, 0.63535419,\n",
              "        0.91463802, 0.58550148, 0.90938224, 0.65444102, 0.06859514,\n",
              "        0.49885811, 0.33534426, 0.06578352, 0.96658101, 0.22583225,\n",
              "        0.2864095 , 0.49712852, 0.41008442]])"
            ]
          },
          "metadata": {},
          "execution_count": 20
        }
      ]
    },
    {
      "cell_type": "markdown",
      "metadata": {
        "id": "_1NMpB6LqIB5"
      },
      "source": [
        "### 문제 17. np.random.random 함수와 shape 파라매터를 (28, 28)의 랜덤 노이즈를 생성해보세요."
      ]
    },
    {
      "cell_type": "code",
      "metadata": {
        "id": "U9-NlbEhqhCx",
        "colab": {
          "base_uri": "https://localhost:8080/"
        },
        "outputId": "eae2d6ae-6466-4ec8-f7d1-8c15b692a511"
      },
      "source": [
        "# np.random.randpm 함수와 shape 파라매터를 이용하여 (28, 28)의 랜덤 노이즈를 생성하는 코드를 작성하시오.\n",
        "np.random.random((28,28)).shape"
      ],
      "execution_count": 21,
      "outputs": [
        {
          "output_type": "execute_result",
          "data": {
            "text/plain": [
              "(28, 28)"
            ]
          },
          "metadata": {},
          "execution_count": 21
        }
      ]
    },
    {
      "cell_type": "markdown",
      "metadata": {
        "id": "JLSYLZr0qvGI"
      },
      "source": [
        "### 문제 18. 생성된 random (28, 28) 노이즈를 plt를 통하여 확인해보세요."
      ]
    },
    {
      "cell_type": "code",
      "metadata": {
        "id": "EsgmHRFSrDX4",
        "colab": {
          "base_uri": "https://localhost:8080/",
          "height": 265
        },
        "outputId": "803ea525-5d17-4ae7-83d1-a34474d51af4"
      },
      "source": [
        "# plt를 통하여 random (28, 28) 노이즈를 2회 출력하는 코드를 작성하시고, 이미지가 다른지 확인하세요.\n",
        "plt.imshow(np.random.random((28,28)), cmap=\"gray\")\n",
        "plt.colorbar()\n",
        "plt.show()"
      ],
      "execution_count": 22,
      "outputs": [
        {
          "output_type": "display_data",
          "data": {
            "image/png": "[encoded data removed]",
            "text/plain": [
              "<Figure size 432x288 with 2 Axes>"
            ]
          },
          "metadata": {
            "needs_background": "light"
          }
        }
      ]
    },
    {
      "cell_type": "markdown",
      "metadata": {
        "id": "nWy8FKR1AYJU"
      },
      "source": [
        "### 문제 19. 가우시안 노이즈 함수를 사용하여 평균 0, 표준편차 0.1, 사이즈 1로 랜덤 값을 3번 출력하세요. (np.random.normal)"
      ]
    },
    {
      "cell_type": "code",
      "metadata": {
        "id": "ENpSWYu_stHp",
        "colab": {
          "base_uri": "https://localhost:8080/"
        },
        "outputId": "c2130f44-997b-467f-b861-58d45abe769a"
      },
      "source": [
        "# 가우시안 노이즈 함수를 이용하여 mu 0.1 std 0.1 size 1인 랜덤값을 3번 출력하는 코드를 작성하세요.\n",
        "print(np.random.normal(0.0, 0.1, 1))\n",
        "print(np.random.normal(0.0, 0.1, 1))\n",
        "print(np.random.normal(0.0, 0.1, 1))"
      ],
      "execution_count": 23,
      "outputs": [
        {
          "output_type": "stream",
          "name": "stdout",
          "text": [
            "[0.01826279]\n",
            "[0.11205429]\n",
            "[0.13886016]\n"
          ]
        }
      ]
    },
    {
      "cell_type": "markdown",
      "metadata": {
        "id": "OQPItJ4zBWTt"
      },
      "source": [
        "### 문제 20. 가우시안 노이즈 함수의 옵션을 문제 19과 동일하지만 평균이 3.0인 경우, 표준 편차가 0.01인 경우로 각각 3회씩 출력해보세요."
      ]
    },
    {
      "cell_type": "code",
      "metadata": {
        "id": "CuvUg3SmtRrx",
        "colab": {
          "base_uri": "https://localhost:8080/"
        },
        "outputId": "44e383f2-ae82-4aa6-9d40-127e2d7370c2"
      },
      "source": [
        "# 가우시안 노이즈 함수 mu = 3.0, std = 0.1, size = 1을 3 회 출력, mu = 0.0, std = 0.01, size = 1을 3회 출력하는 코드를 작성해보세요.\n",
        "print(np.random.normal(3.0, 0.01, 1))\n",
        "print(np.random.normal(3.0, 0.01, 1))\n",
        "print(np.random.normal(3.0, 0.01, 1))"
      ],
      "execution_count": 24,
      "outputs": [
        {
          "output_type": "stream",
          "name": "stdout",
          "text": [
            "[2.99521277]\n",
            "[3.00037855]\n",
            "[2.98629183]\n"
          ]
        }
      ]
    },
    {
      "cell_type": "markdown",
      "metadata": {
        "id": "ef1qyJ8HtZfu"
      },
      "source": [
        "### 문제 21. 가우시안 노이즈 함수를 문제 19의 옵션으로 size를 (28, 28)로 생성 후 plt로 출력해보세요."
      ]
    },
    {
      "cell_type": "code",
      "metadata": {
        "id": "kh_v1QZYt0kJ",
        "colab": {
          "base_uri": "https://localhost:8080/",
          "height": 265
        },
        "outputId": "b834c2c4-9580-4136-a7cc-b0159818a8b4"
      },
      "source": [
        "# 가우시안 노이즈 함수를 문제 17의 옵션으로 size를 (28, 28)로 생성 후 plt로 출력하는 코드를 작성해보세요. 단, std = 0.01\n",
        "plt.imshow(np.random.normal(0.0, 0.01, (28, 28)), cmap=\"gray\")\n",
        "plt.colorbar()\n",
        "plt.show()"
      ],
      "execution_count": 25,
      "outputs": [
        {
          "output_type": "display_data",
          "data": {
            "image/png": "[encoded data removed]",
            "text/plain": [
              "<Figure size 432x288 with 2 Axes>"
            ]
          },
          "metadata": {
            "needs_background": "light"
          }
        }
      ]
    },
    {
      "cell_type": "markdown",
      "metadata": {
        "id": "MUdBACZuCDfA"
      },
      "source": [
        "### 문제 22. train_images의 5번째 이미지와 가우시안 노이즈 (28, 28)를 생성 한 뒤 각각 tensor를 더한 뒤 noisy_image 변수에 할당 해보세요."
      ]
    },
    {
      "cell_type": "code",
      "metadata": {
        "id": "pWia41PbumMX"
      },
      "source": [
        "# train_images[5]와 가우시안 노이즈 (28, 28)을 더한 뒤 noisy_image 변수에 할당하는 코드를 작성하세요. mu = 0.5, std = 0.1\n",
        "noisy_image = train_images[5] + np.random.normal(0.5, 0.1, (28, 28))"
      ],
      "execution_count": 26,
      "outputs": []
    },
    {
      "cell_type": "markdown",
      "metadata": {
        "id": "WsA0v_tNuv7Z"
      },
      "source": [
        "### 문제 23. noisy_image를 plt를 통해서 출력해보세요."
      ]
    },
    {
      "cell_type": "code",
      "metadata": {
        "id": "SMLTjkltv4g3",
        "colab": {
          "base_uri": "https://localhost:8080/",
          "height": 265
        },
        "outputId": "72d67b1f-9e92-4143-cb49-36cb7de9066d"
      },
      "source": [
        "# noisy_image를 plt로 출력하는 코드를 작성해보세요.\n",
        "plt.imshow(noisy_image, cmap=\"gray\")\n",
        "plt.colorbar()\n",
        "plt.show()"
      ],
      "execution_count": 27,
      "outputs": [
        {
          "output_type": "display_data",
          "data": {
            "image/png": "[encoded data removed]",
            "text/plain": [
              "<Figure size 432x288 with 2 Axes>"
            ]
          },
          "metadata": {
            "needs_background": "light"
          }
        }
      ]
    },
    {
      "cell_type": "markdown",
      "metadata": {
        "id": "Mqv2vE5EwChf"
      },
      "source": [
        "### 문제 24. 노이지 이미지를 생성했지만, max가 1이 넘습니다. max값을 1로 조절해보세요."
      ]
    },
    {
      "cell_type": "code",
      "metadata": {
        "id": "yxlKvbMBwyZu",
        "colab": {
          "base_uri": "https://localhost:8080/",
          "height": 269
        },
        "outputId": "e049df4c-8f46-43db-e50a-9ead9190a311"
      },
      "source": [
        "# max가 1을 초과하지 않게 noisy_image를 수정한 뒤 plt로 출력해보세요.\n",
        "noisy_image[noisy_image > 1.0] = 1.0\n",
        "plt.imshow(noisy_image, cmap=\"gray\")\n",
        "plt.colorbar()\n",
        "plt.show()"
      ],
      "execution_count": 28,
      "outputs": [
        {
          "output_type": "display_data",
          "data": {
            "image/png": "[encoded data removed]",
            "text/plain": [
              "<Figure size 432x288 with 2 Axes>"
            ]
          },
          "metadata": {
            "needs_background": "light"
          }
        }
      ]
    },
    {
      "cell_type": "markdown",
      "metadata": {
        "id": "-ZGNiCnuxQTO"
      },
      "source": [
        "### 문제 25. 위의 방법을 전부 활용하여 train_images와 test_images 데이터에 랜덤 노이즈를 추가한 train_noisy_images와 test_noisy_images를 생성해보세요."
      ]
    },
    {
      "cell_type": "code",
      "metadata": {
        "id": "c7292i2CMFCz"
      },
      "source": [
        "# train_noisy_image와 test_nosiy_images를 생성하는 코드를 작성하세요.\n",
        "train_noisy_images = train_images + np.random.normal(0.5, 0.1, train_images.shape)\n",
        "train_noisy_images[train_noisy_images > 1.0] = 1.0\n",
        "\n",
        "test_noisy_images = test_images + np.random.normal(0.5, 0.1, test_images.shape)\n",
        "test_noisy_images[test_noisy_images > 1.0] = 1.0"
      ],
      "execution_count": 29,
      "outputs": []
    },
    {
      "cell_type": "code",
      "metadata": {
        "id": "zGzd99EolQBo",
        "colab": {
          "base_uri": "https://localhost:8080/",
          "height": 253
        },
        "outputId": "1929e680-a3d9-4f48-e775-0b778e78b3d2"
      },
      "source": [
        "plt.imshow(train_noisy_images[:5].transpose( (1, 0, 2) ).reshape(28, -1), cmap=\"gray\")\n",
        "plt.colorbar()\n",
        "plt.show()"
      ],
      "execution_count": 30,
      "outputs": [
        {
          "output_type": "display_data",
          "data": {
            "image/png": "[encoded data removed]",
            "text/plain": [
              "<Figure size 432x288 with 2 Axes>"
            ]
          },
          "metadata": {
            "needs_background": "light"
          }
        }
      ]
    },
    {
      "cell_type": "markdown",
      "metadata": {
        "id": "cclii1-lS_HA"
      },
      "source": [
        "### 문제 26. labels에 onehot 인코딩을 적용하여 (배치 사이즈, 클래스 개수)의 shape으로 변경해보세요."
      ]
    },
    {
      "cell_type": "code",
      "metadata": {
        "id": "S34frxLyxAD-",
        "colab": {
          "base_uri": "https://localhost:8080/"
        },
        "outputId": "ae6210b5-54c4-4729-b0b7-3df611f3c90a"
      },
      "source": [
        "# train/test labels에 onehot encoding을 적용하여 shape을 (배치사이즈,) 에서 (배치사이즈, 클래스 개수)로 변경하는 코드를 작성하세요.\n",
        "from tensorflow.keras.utils import to_categorical\n",
        "print(train_labels.shape, test_labels.shape)\n",
        "train_labels = to_categorical( train_labels, 10)\n",
        "test_labels = to_categorical( test_labels, 10)\n",
        "print(train_labels.shape, test_labels.shape)"
      ],
      "execution_count": 31,
      "outputs": [
        {
          "output_type": "stream",
          "name": "stdout",
          "text": [
            "(60000,) (10000,)\n",
            "(60000, 10) (10000, 10)\n"
          ]
        }
      ]
    },
    {
      "cell_type": "markdown",
      "metadata": {
        "id": "z67dTPu0xJSu"
      },
      "source": [
        "## Step 5. 모델링"
      ]
    },
    {
      "cell_type": "markdown",
      "metadata": {
        "id": "20iJHg2gXrC2"
      },
      "source": [
        "### 문제 27. 해당 학습셋을 처리하는 이미지 classification 모델을 작성하세요."
      ]
    },
    {
      "cell_type": "code",
      "metadata": {
        "id": "1Q1XtFoxX0eN"
      },
      "source": [
        "# input (28, 28), 64 unit의 simple RNN, 10 unit의 fully-conntect를 가진 모델을 작성하세요.\n",
        "from tensorflow.keras.layers import SimpleRNN\n",
        "from tensorflow.keras.layers import Dense, Input\n",
        "from tensorflow.keras.models import Model\n",
        "\n",
        "inputs = Input(shape=(28,28))\n",
        "x1 = SimpleRNN(64, activation='tanh')(inputs)\n",
        "x2 = Dense(10, activation = 'softmax')(x1)\n",
        "model = Model(inputs, x2)"
      ],
      "execution_count": 38,
      "outputs": []
    },
    {
      "cell_type": "markdown",
      "metadata": {
        "id": "svYCsKxOyJzt"
      },
      "source": [
        "### 문제 28. 모델 요약 정보를 출력해보세요."
      ]
    },
    {
      "cell_type": "code",
      "metadata": {
        "id": "d4qnTxHpyN37",
        "colab": {
          "base_uri": "https://localhost:8080/"
        },
        "outputId": "ed9813ef-41c1-48eb-ed0f-e7e125ed42f3"
      },
      "source": [
        "# 모델 요약 정보를 출력해보세요.\n",
        "model.summary()"
      ],
      "execution_count": 39,
      "outputs": [
        {
          "output_type": "stream",
          "name": "stdout",
          "text": [
            "Model: \"model_1\"\n",
            "_________________________________________________________________\n",
            " Layer (type)                Output Shape              Param #   \n",
            "=================================================================\n",
            " input_2 (InputLayer)        [(None, 28, 28)]          0         \n",
            "                                                                 \n",
            " simple_rnn_1 (SimpleRNN)    (None, 64)                5952      \n",
            "                                                                 \n",
            " dense_1 (Dense)             (None, 10)                650       \n",
            "                                                                 \n",
            "=================================================================\n",
            "Total params: 6,602\n",
            "Trainable params: 6,602\n",
            "Non-trainable params: 0\n",
            "_________________________________________________________________\n"
          ]
        }
      ]
    },
    {
      "cell_type": "markdown",
      "metadata": {
        "id": "PkOrDR1yam4a"
      },
      "source": [
        "### 문제 29. 27에서 만든 모델에 로스와 옵티마이저, 메트릭을 설정하세요."
      ]
    },
    {
      "cell_type": "code",
      "metadata": {
        "id": "nufi0CMyazsF"
      },
      "source": [
        "# 만든 모델에 loss는 categorical_crossentropy, optimizer는 adam 매트릭은 accuracy으로 설정하는 코드를 작성하세요.\n",
        "model.compile(loss='categorical_crossentropy',optimizer = 'adam',metrics=['accuracy'])"
      ],
      "execution_count": 40,
      "outputs": []
    },
    {
      "cell_type": "markdown",
      "metadata": {
        "id": "IZRqZC50ZoaE"
      },
      "source": [
        "### 문제 30. 만든 모델에 train_noisy_images를 학습시켜 보세요."
      ]
    },
    {
      "cell_type": "code",
      "metadata": {
        "id": "PtpJp3fmaRuA",
        "colab": {
          "base_uri": "https://localhost:8080/"
        },
        "outputId": "545405e6-105a-481a-8308-1ab3f6ee4964"
      },
      "source": [
        "# train_noisy_images를 학습시키고 5 epochs을 돌리고 그 진행 사항을 hist에 저장하는 코드를 작성하세요.\n",
        "hist = model.fit(train_noisy_images, train_labels, validation_data = (test_noisy_images, test_labels),epochs = 5, verbose=2)"
      ],
      "execution_count": 41,
      "outputs": [
        {
          "output_type": "stream",
          "name": "stdout",
          "text": [
            "Epoch 1/5\n",
            "1875/1875 - 22s - loss: 0.7696 - accuracy: 0.7488 - val_loss: 0.4255 - val_accuracy: 0.8717 - 22s/epoch - 12ms/step\n",
            "Epoch 2/5\n",
            "1875/1875 - 15s - loss: 0.4160 - accuracy: 0.8726 - val_loss: 0.3932 - val_accuracy: 0.8806 - 15s/epoch - 8ms/step\n",
            "Epoch 3/5\n",
            "1875/1875 - 11s - loss: 0.3441 - accuracy: 0.8964 - val_loss: 0.2888 - val_accuracy: 0.9146 - 11s/epoch - 6ms/step\n",
            "Epoch 4/5\n",
            "1875/1875 - 11s - loss: 0.2979 - accuracy: 0.9117 - val_loss: 0.2429 - val_accuracy: 0.9264 - 11s/epoch - 6ms/step\n",
            "Epoch 5/5\n",
            "1875/1875 - 11s - loss: 0.2719 - accuracy: 0.9201 - val_loss: 0.2167 - val_accuracy: 0.9336 - 11s/epoch - 6ms/step\n"
          ]
        }
      ]
    },
    {
      "cell_type": "markdown",
      "metadata": {
        "id": "hU3-Lm7Ma_97"
      },
      "source": [
        "### 문제 31. 학습 진행 사항을 plt으로 출력하세요."
      ]
    },
    {
      "cell_type": "code",
      "metadata": {
        "id": "B6pKz5o3bPIT",
        "colab": {
          "base_uri": "https://localhost:8080/",
          "height": 265
        },
        "outputId": "57a99fdc-70ab-4527-b1bb-8787eea5dd2c"
      },
      "source": [
        "# hist의 accuracy plt의 plot을 이용하여 출력하는 코드를 작성하세요.\n",
        "plt.plot(hist.history['accuracy'],label = 'accuracy')\n",
        "plt.plot(hist.history['loss'],label = 'loss')\n",
        "plt.plot(hist.history['val_accuracy'],label = 'val_accuracy')\n",
        "plt.plot(hist.history['val_loss'],label = 'val_loss')\n",
        "plt.legend(loc='upper left')\n",
        "plt.show()"
      ],
      "execution_count": 44,
      "outputs": [
        {
          "output_type": "display_data",
          "data": {
            "image/png": "[encoded data removed]",
            "text/plain": [
              "<Figure size 432x288 with 1 Axes>"
            ]
          },
          "metadata": {
            "needs_background": "light"
          }
        }
      ]
    },
    {
      "cell_type": "markdown",
      "metadata": {
        "id": "bfxPsEKTrKBq"
      },
      "source": [
        "## Step 6. 결과 확인"
      ]
    },
    {
      "cell_type": "markdown",
      "metadata": {
        "id": "J6nvDS4yOSCD"
      },
      "source": [
        "### 문제 32. 완성된 모델에서 test_noisy_image를 1장 넣고 결과를 res 변수에 저정하세요."
      ]
    },
    {
      "cell_type": "code",
      "metadata": {
        "id": "uKFAu5z4QRjR",
        "colab": {
          "base_uri": "https://localhost:8080/"
        },
        "outputId": "8c5acba7-f9ef-4833-961d-7b0c94bda558"
      },
      "source": [
        "# 모델에 test_noisy_images 중 1장을 넣고 결과를 받는 코드를 작성하세요.\n",
        "res = model.predict(test_noisy_images[:1])\n",
        "res.shape"
      ],
      "execution_count": 48,
      "outputs": [
        {
          "output_type": "execute_result",
          "data": {
            "text/plain": [
              "(1, 10)"
            ]
          },
          "metadata": {},
          "execution_count": 48
        }
      ]
    },
    {
      "cell_type": "markdown",
      "metadata": {
        "id": "KMHHUTQfQcU0"
      },
      "source": [
        "### 문제 33. test_noisy_images[0], test_images[0]를 width 방향으로 결합하여 plt로 출력하세요"
      ]
    },
    {
      "cell_type": "code",
      "metadata": {
        "id": "L0t-FO9qRfoK",
        "colab": {
          "base_uri": "https://localhost:8080/",
          "height": 216
        },
        "outputId": "47104fe9-d4c3-4103-f88c-788ec8fa94df"
      },
      "source": [
        "# test_noisy_images[0], test_images[0]를 width 방향으로 결합하여 (28, 28 * 2) 의 이미지를 만들어 plt로 출력하는 코드를 작성하세요.\n",
        "plt.imshow(np.concatenate([test_noisy_images[0],test_images[0]],axis=1))\n",
        "plt.show()"
      ],
      "execution_count": 54,
      "outputs": [
        {
          "output_type": "display_data",
          "data": {
            "image/png": "[encoded data removed]",
            "text/plain": [
              "<Figure size 432x288 with 1 Axes>"
            ]
          },
          "metadata": {
            "needs_background": "light"
          }
        }
      ]
    },
    {
      "cell_type": "markdown",
      "metadata": {
        "id": "16fGMxJRwhc6"
      },
      "source": [
        "### 문제 34. res와 test_labels[0]의 결과를 plt.bar로 확인하세요."
      ]
    },
    {
      "cell_type": "code",
      "metadata": {
        "id": "oLZEQHHAwqPC",
        "colab": {
          "base_uri": "https://localhost:8080/",
          "height": 265
        },
        "outputId": "314fed7b-c4b0-478a-d773-7c9344310104"
      },
      "source": [
        "# res와 test_labels[0]의 결과를 plt.bar로 확인하세요.\n",
        "plt.bar(range(0,10),res[0], color = 'red')\n",
        "plt.bar(np.array(range(10))+0.35,test_labels[0])\n",
        "plt.show()"
      ],
      "execution_count": 61,
      "outputs": [
        {
          "output_type": "display_data",
          "data": {
            "image/png": "[encoded data removed]",
            "text/plain": [
              "<Figure size 432x288 with 1 Axes>"
            ]
          },
          "metadata": {
            "needs_background": "light"
          }
        }
      ]
    },
    {
      "cell_type": "markdown",
      "metadata": {
        "id": "7FQT89oqrdkA"
      },
      "source": [
        "## Step 7. 모델 저장 및 로드, 다운"
      ]
    },
    {
      "cell_type": "markdown",
      "metadata": {
        "id": "c2GZFvCAzFNl"
      },
      "source": [
        "### 문제 35. 모델을 저장하세요."
      ]
    },
    {
      "cell_type": "code",
      "metadata": {
        "id": "YjuCVTNbriVJ"
      },
      "source": [
        "# 모델을 저장하는 코드를 작성하세요. \n",
        "model.save(\"./lecture001.h5\")"
      ],
      "execution_count": 63,
      "outputs": []
    },
    {
      "cell_type": "markdown",
      "metadata": {
        "id": "Bj4P3DdzzhyC"
      },
      "source": [
        "### 문제 36. 모델 파일을 새로운 모델에 로드하세요."
      ]
    },
    {
      "cell_type": "code",
      "metadata": {
        "id": "xuRAnBR8zY-X"
      },
      "source": [
        "# 모델을 로드하는 코드를 작성하세요.\n",
        "new_model = tf.keras.models.load_model('./lecture001.h5')"
      ],
      "execution_count": 64,
      "outputs": []
    },
    {
      "cell_type": "markdown",
      "metadata": {
        "id": "ta1I5ZEY1FBR"
      },
      "source": [
        "### 문제 37. 로드한 모델을 test 데이터로 평가해보세요.\n"
      ]
    },
    {
      "cell_type": "code",
      "metadata": {
        "id": "ALrVf_lm0_Bc",
        "colab": {
          "base_uri": "https://localhost:8080/"
        },
        "outputId": "70b56bdd-290a-475c-9d30-7f912c821068"
      },
      "source": [
        "# 로드한 모델을 test 데이터로 평가해보세요.\n",
        "loss, acc = new_model.evaluate(test_noisy_images, test_labels, verbose=2)\n",
        "print(loss,acc)"
      ],
      "execution_count": 65,
      "outputs": [
        {
          "output_type": "stream",
          "name": "stdout",
          "text": [
            "313/313 - 1s - loss: 0.2167 - accuracy: 0.9336 - 1s/epoch - 3ms/step\n",
            "0.2166845202445984 0.9336000084877014\n"
          ]
        }
      ]
    },
    {
      "cell_type": "markdown",
      "metadata": {
        "id": "gfEgY1Vr1T1v"
      },
      "source": [
        "### 문제 38. 모델을 내 컴퓨터에 저장해보세요"
      ]
    },
    {
      "cell_type": "code",
      "metadata": {
        "id": "ASkJv_Ui1RGv"
      },
      "source": [
        "# 모델을 내 컴퓨터에 저장해보세요."
      ],
      "execution_count": null,
      "outputs": []
    },
    {
      "cell_type": "code",
      "metadata": {
        "id": "4qBQZvGj2IkF"
      },
      "source": [
        "from google.colab import files\n",
        "files.download('./lecture001.h5')"
      ],
      "execution_count": null,
      "outputs": []
    }
  ]
}